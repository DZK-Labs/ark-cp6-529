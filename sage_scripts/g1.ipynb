{
 "cells": [
  {
   "cell_type": "code",
   "execution_count": 1,
   "id": "f890e69f",
   "metadata": {},
   "outputs": [],
   "source": [
    "q = 1393127037143584247199893356983111562901745574937902324694961530768859597608968253224455327034513790598090225418769269547013027125294147720154141059771190988081\n",
    "t = 958852482080108523503261136209276035742162691825013326170216721598135503624582\n",
    "r = 57896044618658097711785492504343953926634992332820282019728792003956564819949\n",
    "k = 6\n",
    "D = -3496"
   ]
  },
  {
   "cell_type": "code",
   "execution_count": 2,
   "id": "91bec88f",
   "metadata": {},
   "outputs": [],
   "source": [
    "E = EllipticCurve(GF(q), [0, 0, 0, 11, 258778877286921393099430952356951813749468875819541194566590982411954936341028897879371735235881815122771684547010326496988837784319176832293682272090515709037])"
   ]
  },
  {
   "cell_type": "code",
   "execution_count": 3,
   "id": "b45244f7",
   "metadata": {},
   "outputs": [
    {
     "data": {
      "text/plain": [
       "0"
      ]
     },
     "execution_count": 3,
     "metadata": {},
     "output_type": "execute_result"
    }
   ],
   "source": [
    "(q + 1 - t) % r"
   ]
  },
  {
   "cell_type": "code",
   "execution_count": 4,
   "id": "7cfce0fc",
   "metadata": {},
   "outputs": [
    {
     "data": {
      "text/plain": [
       "24062559822862625313599379840463328384057194034656457084274246263984232490014561500"
      ]
     },
     "execution_count": 4,
     "metadata": {},
     "output_type": "execute_result"
    }
   ],
   "source": [
    "# this is the cofactor\n",
    "(q + 1 - t) // r"
   ]
  },
  {
   "cell_type": "code",
   "execution_count": 5,
   "id": "feb7cf3f",
   "metadata": {},
   "outputs": [
    {
     "data": {
      "text/plain": [
       "23420127353438653116845053212759933858604251976845907887577372325363573976255"
      ]
     },
     "execution_count": 5,
     "metadata": {},
     "output_type": "execute_result"
    }
   ],
   "source": [
    "pow(24062559822862625313599379840463328384057194034656457084274246263984232490014561500, -1, r)"
   ]
  },
  {
   "cell_type": "code",
   "execution_count": 6,
   "id": "aae2f8bf",
   "metadata": {},
   "outputs": [
    {
     "data": {
      "text/plain": [
       "13269266828372813958755298838462896499316966559055715986972792190436516262201433171632033214647179713491749562054188284910448893927256671061946695461220733264"
      ]
     },
     "execution_count": 6,
     "metadata": {},
     "output_type": "execute_result"
    }
   ],
   "source": [
    "# find a point\n",
    "x_test = 1\n",
    "res_test = pow(x_test, 3) + 11 * x_test + 258778877286921393099430952356951813749468875819541194566590982411954936341028897879371735235881815122771684547010326496988837784319176832293682272090515709037\n",
    "\n",
    "Mod(res_test, q).sqrt()"
   ]
  },
  {
   "cell_type": "code",
   "execution_count": 7,
   "id": "6a002ae5",
   "metadata": {},
   "outputs": [],
   "source": [
    "P = E(1, 13269266828372813958755298838462896499316966559055715986972792190436516262201433171632033214647179713491749562054188284910448893927256671061946695461220733264)"
   ]
  },
  {
   "cell_type": "code",
   "execution_count": 8,
   "id": "ea9a4d90",
   "metadata": {},
   "outputs": [
    {
     "data": {
      "text/plain": [
       "(1150417224454318992146367719987987055749819628693304637209632299436046976643321189050866101253735437473738428439598167749807577237428069277943283009793341680345 : 308948101055276827165097600010476068138494789856189289472111219157538912681983461627063678654990234906191942897122527916708285594062916709854682309153791143982 : 1)"
      ]
     },
     "execution_count": 8,
     "metadata": {},
     "output_type": "execute_result"
    }
   ],
   "source": [
    "P * 24062559822862625313599379840463328384057194034656457084274246263984232490014561500"
   ]
  },
  {
   "cell_type": "code",
   "execution_count": null,
   "id": "3499c817",
   "metadata": {},
   "outputs": [],
   "source": []
  }
 ],
 "metadata": {
  "kernelspec": {
   "display_name": "SageMath 9.2",
   "language": "sage",
   "name": "sagemath"
  },
  "language_info": {
   "codemirror_mode": {
    "name": "ipython",
    "version": 3
   },
   "file_extension": ".py",
   "mimetype": "text/x-python",
   "name": "python",
   "nbconvert_exporter": "python",
   "pygments_lexer": "ipython3",
   "version": "3.9.7"
  }
 },
 "nbformat": 4,
 "nbformat_minor": 5
}
