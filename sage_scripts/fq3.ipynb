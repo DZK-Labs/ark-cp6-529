{
 "cells": [
  {
   "cell_type": "code",
   "execution_count": 1,
   "id": "01f35ca5",
   "metadata": {},
   "outputs": [],
   "source": [
    "q = 1393127037143584247199893356983111562901745574937902324694961530768859597608968253224455327034513790598090225418769269547013027125294147720154141059771190988081"
   ]
  },
  {
   "cell_type": "code",
   "execution_count": 2,
   "id": "f606f731",
   "metadata": {},
   "outputs": [],
   "source": [
    "F = GF(q)"
   ]
  },
  {
   "cell_type": "code",
   "execution_count": 3,
   "id": "a03e885c",
   "metadata": {},
   "outputs": [],
   "source": [
    "K3.<x> = PolynomialRing(F)"
   ]
  },
  {
   "cell_type": "code",
   "execution_count": 4,
   "id": "35571c44",
   "metadata": {},
   "outputs": [],
   "source": [
    "K.<a> = GF(q**3, name='a', modulus=x ^ 3 - 11)"
   ]
  },
  {
   "cell_type": "code",
   "execution_count": 5,
   "id": "5c0ff638",
   "metadata": {},
   "outputs": [],
   "source": [
    "F3.<u> = F.extension(x ^ 3 - 11)"
   ]
  },
  {
   "cell_type": "code",
   "execution_count": 6,
   "id": "ba0029ac",
   "metadata": {
    "scrolled": true
   },
   "outputs": [
    {
     "data": {
      "text/plain": [
       "False"
      ]
     },
     "execution_count": 6,
     "metadata": {},
     "output_type": "execute_result"
    }
   ],
   "source": [
    "u.is_square()"
   ]
  },
  {
   "cell_type": "code",
   "execution_count": 7,
   "id": "7f899a15",
   "metadata": {},
   "outputs": [
    {
     "data": {
      "text/plain": [
       "168986565733704145300825834698898343588064935950010122182005819251995982767287208903469558248754808466240855000152214284824812986421533941535530595076130438769853532878409199241780600554064182795698811188138964324354981858542874024373489234349290764796903445917225872675108556984383506572943208010993017901734921038471661161319348122946681586265959227415361379262751099405409569468472087076201768524898583526152966626352481007398842028855317862460704497535709965205234200583465"
      ]
     },
     "execution_count": 7,
     "metadata": {},
     "output_type": "execute_result"
    }
   ],
   "source": [
    "t = (q^3 - 1) / pow(2, 4)\n",
    "t"
   ]
  },
  {
   "cell_type": "code",
   "execution_count": 8,
   "id": "1179b29c",
   "metadata": {},
   "outputs": [
    {
     "data": {
      "text/plain": [
       "84493282866852072650412917349449171794032467975005061091002909625997991383643604451734779124377404233120427500076107142412406493210766970767765297538065219384926766439204599620890300277032091397849405594069482162177490929271437012186744617174645382398451722958612936337554278492191753286471604005496508950867460519235830580659674061473340793132979613707680689631375549702704784734236043538100884262449291763076483313176240503699421014427658931230352248767854982602617100291732"
      ]
     },
     "execution_count": 8,
     "metadata": {},
     "output_type": "execute_result"
    }
   ],
   "source": [
    "(t - 1)/2"
   ]
  },
  {
   "cell_type": "code",
   "execution_count": 9,
   "id": "5e2e0903",
   "metadata": {},
   "outputs": [
    {
     "data": {
      "text/plain": [
       "False"
      ]
     },
     "execution_count": 9,
     "metadata": {},
     "output_type": "execute_result"
    }
   ],
   "source": [
    "(u + 6).is_square()"
   ]
  },
  {
   "cell_type": "code",
   "execution_count": 10,
   "id": "0d101259",
   "metadata": {},
   "outputs": [
    {
     "data": {
      "text/plain": [
       "1339633113957676020148287591135460920362602657331324199650309048355102633098270613070041406828125220401734359997493278007533923908473844159599002946980127094162"
      ]
     },
     "execution_count": 10,
     "metadata": {},
     "output_type": "execute_result"
    }
   ],
   "source": [
    "pow(u + 6, t, q)"
   ]
  },
  {
   "cell_type": "code",
   "execution_count": 11,
   "id": "4069f233",
   "metadata": {},
   "outputs": [
    {
     "data": {
      "text/plain": [
       "1"
      ]
     },
     "execution_count": 11,
     "metadata": {},
     "output_type": "execute_result"
    }
   ],
   "source": [
    "pow(-2, (q - 1)/2, q)"
   ]
  },
  {
   "cell_type": "code",
   "execution_count": 12,
   "id": "815e705e",
   "metadata": {},
   "outputs": [
    {
     "data": {
      "text/plain": [
       "1"
      ]
     },
     "execution_count": 12,
     "metadata": {},
     "output_type": "execute_result"
    }
   ],
   "source": [
    "pow(-2, (1 - 1)/3, q)"
   ]
  },
  {
   "cell_type": "code",
   "execution_count": 13,
   "id": "3abeb0c9",
   "metadata": {},
   "outputs": [
    {
     "data": {
      "text/plain": [
       "630671112143114611712935202121094239350294111583666017848575488629665946794047857881658061862511333644650561255352230185858099779685190181602079727385310409518"
      ]
     },
     "execution_count": 13,
     "metadata": {},
     "output_type": "execute_result"
    }
   ],
   "source": [
    "pow(-2, (q - 1)/3, q)"
   ]
  },
  {
   "cell_type": "code",
   "execution_count": 14,
   "id": "7afc2491",
   "metadata": {},
   "outputs": [
    {
     "data": {
      "text/plain": [
       "762455925000469635486958154862017323551451463354236306846386042139193650814920395342797265172002456953439664163417039361154927345608957538552061332385880578562"
      ]
     },
     "execution_count": 14,
     "metadata": {},
     "output_type": "execute_result"
    }
   ],
   "source": [
    "pow(-2, (q^2 - 1)/3, q)"
   ]
  },
  {
   "cell_type": "code",
   "execution_count": 15,
   "id": "d0dd2c52",
   "metadata": {},
   "outputs": [
    {
     "data": {
      "text/plain": [
       "1"
      ]
     },
     "execution_count": 15,
     "metadata": {},
     "output_type": "execute_result"
    }
   ],
   "source": [
    "pow(-2, (2 * 1 - 2)/3, q)"
   ]
  },
  {
   "cell_type": "code",
   "execution_count": 16,
   "id": "554a9386",
   "metadata": {},
   "outputs": [
    {
     "data": {
      "text/plain": [
       "762455925000469635486958154862017323551451463354236306846386042139193650814920395342797265172002456953439664163417039361154927345608957538552061332385880578562"
      ]
     },
     "execution_count": 16,
     "metadata": {},
     "output_type": "execute_result"
    }
   ],
   "source": [
    "pow(-2, (2 * q - 2)/3, q)"
   ]
  },
  {
   "cell_type": "code",
   "execution_count": 17,
   "id": "2824c3bc",
   "metadata": {},
   "outputs": [
    {
     "data": {
      "text/plain": [
       "630671112143114611712935202121094239350294111583666017848575488629665946794047857881658061862511333644650561255352230185858099779685190181602079727385310409518"
      ]
     },
     "execution_count": 17,
     "metadata": {},
     "output_type": "execute_result"
    }
   ],
   "source": [
    "pow(-2, (2 * q^2 - 2)/3, q)"
   ]
  },
  {
   "cell_type": "code",
   "execution_count": null,
   "id": "01c92673",
   "metadata": {},
   "outputs": [],
   "source": []
  }
 ],
 "metadata": {
  "kernelspec": {
   "display_name": "SageMath 9.2",
   "language": "sage",
   "name": "sagemath"
  },
  "language_info": {
   "codemirror_mode": {
    "name": "ipython",
    "version": 3
   },
   "file_extension": ".py",
   "mimetype": "text/x-python",
   "name": "python",
   "nbconvert_exporter": "python",
   "pygments_lexer": "ipython3",
   "version": "3.9.7"
  }
 },
 "nbformat": 4,
 "nbformat_minor": 5
}
