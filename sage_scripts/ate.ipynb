{
 "cells": [
  {
   "cell_type": "code",
   "execution_count": 1,
   "id": "64fc7f1b",
   "metadata": {},
   "outputs": [],
   "source": [
    "q = 1393127037143584247199893356983111562901745574937902324694961530768859597608968253224455327034513790598090225418769269547013027125294147720154141059771190988081\n",
    "t = 958852482080108523503261136209276035742162691825013326170216721598135503624582\n",
    "r = 57896044618658097711785492504343953926634992332820282019728792003956564819949\n",
    "k = 6\n",
    "D = -3496"
   ]
  },
  {
   "cell_type": "code",
   "execution_count": 2,
   "id": "ceda5649",
   "metadata": {},
   "outputs": [
    {
     "data": {
      "text/plain": [
       "958852482080108523503261136209276035742162691825013326170216721598135503624581"
      ]
     },
     "execution_count": 2,
     "metadata": {},
     "output_type": "execute_result"
    }
   ],
   "source": [
    "t - 1"
   ]
  },
  {
   "cell_type": "code",
   "execution_count": 3,
   "id": "24c7e7d7",
   "metadata": {},
   "outputs": [
    {
     "data": {
      "text/plain": [
       "'0x847e345c9559a9a4a2678d0333aa42ad6e5e55257bec5baaf5579276279e71985'"
      ]
     },
     "execution_count": 3,
     "metadata": {},
     "output_type": "execute_result"
    }
   ],
   "source": [
    "hex(958852482080108523503261136209276035742162691825013326170216721598135503624581)"
   ]
  },
  {
   "cell_type": "code",
   "execution_count": 4,
   "id": "a5741bdf",
   "metadata": {},
   "outputs": [
    {
     "data": {
      "text/plain": [
       "33522202672114858599044029142877471688676662102420917026473183073548659020798694123144736744935288215142564786355372396581934093300755390965014964221268328493649100820894696732457537344025534529266135072187793146832318347273146899150249402069"
      ]
     },
     "execution_count": 4,
     "metadata": {},
     "output_type": "execute_result"
    }
   ],
   "source": [
    "(q ^ 6 - 1) // (q ^ 3 - 1) // (q + 1) // r"
   ]
  },
  {
   "cell_type": "code",
   "execution_count": 5,
   "id": "9a6ca5fe",
   "metadata": {},
   "outputs": [
    {
     "data": {
      "text/plain": [
       "782412617055576810900917744291620294143560296654224301172315017705450234607288874792247667942436918253025244581142084110845414191684600371997508793548252111273"
      ]
     },
     "execution_count": 5,
     "metadata": {},
     "output_type": "execute_result"
    }
   ],
   "source": [
    "33522202672114858599044029142877471688676662102420917026473183073548659020798694123144736744935288215142564786355372396581934093300755390965014964221268328493649100820894696732457537344025534529266135072187793146832318347273146899150249402069 % q"
   ]
  },
  {
   "cell_type": "code",
   "execution_count": 6,
   "id": "36b3c2dc",
   "metadata": {},
   "outputs": [
    {
     "data": {
      "text/plain": [
       "24062559822862625313599379840463328384057194034656457084274246263984232490014561516"
      ]
     },
     "execution_count": 6,
     "metadata": {},
     "output_type": "execute_result"
    }
   ],
   "source": [
    "33522202672114858599044029142877471688676662102420917026473183073548659020798694123144736744935288215142564786355372396581934093300755390965014964221268328493649100820894696732457537344025534529266135072187793146832318347273146899150249402069 // q"
   ]
  },
  {
   "cell_type": "code",
   "execution_count": 7,
   "id": "de1d48d6",
   "metadata": {},
   "outputs": [
    {
     "data": {
      "text/plain": [
       "'0xe3f2ffb82a96512f44dda5eec9b3ceeb34d57eb2b012cf097664ae2929e3168b81488f9fbc2488d2c335d381ac296a431b803ef739d45f765667c6f366e4d5e7e1a9'"
      ]
     },
     "execution_count": 7,
     "metadata": {},
     "output_type": "execute_result"
    }
   ],
   "source": [
    "hex(782412617055576810900917744291620294143560296654224301172315017705450234607288874792247667942436918253025244581142084110845414191684600371997508793548252111273)"
   ]
  },
  {
   "cell_type": "code",
   "execution_count": 8,
   "id": "b2b8c088",
   "metadata": {},
   "outputs": [
    {
     "data": {
      "text/plain": [
       "'0x32bc0528f2e9cc94ee931ccc28d5cce4871f4bc296ea016247281bd733d2fbf3354ec'"
      ]
     },
     "execution_count": 8,
     "metadata": {},
     "output_type": "execute_result"
    }
   ],
   "source": [
    "hex(24062559822862625313599379840463328384057194034656457084274246263984232490014561516)"
   ]
  },
  {
   "cell_type": "code",
   "execution_count": null,
   "id": "aecca3d7",
   "metadata": {},
   "outputs": [],
   "source": []
  }
 ],
 "metadata": {
  "kernelspec": {
   "display_name": "SageMath 9.2",
   "language": "sage",
   "name": "sagemath"
  },
  "language_info": {
   "codemirror_mode": {
    "name": "ipython",
    "version": 3
   },
   "file_extension": ".py",
   "mimetype": "text/x-python",
   "name": "python",
   "nbconvert_exporter": "python",
   "pygments_lexer": "ipython3",
   "version": "3.9.7"
  }
 },
 "nbformat": 4,
 "nbformat_minor": 5
}
