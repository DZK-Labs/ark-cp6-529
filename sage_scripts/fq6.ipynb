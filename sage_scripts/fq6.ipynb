{
 "cells": [
  {
   "cell_type": "code",
   "execution_count": 1,
   "id": "385a8d04",
   "metadata": {},
   "outputs": [],
   "source": [
    "q = 1393127037143584247199893356983111562901745574937902324694961530768859597608968253224455327034513790598090225418769269547013027125294147720154141059771190988081"
   ]
  },
  {
   "cell_type": "code",
   "execution_count": 2,
   "id": "61a8fda4",
   "metadata": {},
   "outputs": [],
   "source": [
    "F = GF(q)"
   ]
  },
  {
   "cell_type": "code",
   "execution_count": 3,
   "id": "0eda5e9e",
   "metadata": {},
   "outputs": [],
   "source": [
    "K3.<x> = PolynomialRing(F)"
   ]
  },
  {
   "cell_type": "code",
   "execution_count": 4,
   "id": "d7fc44b8",
   "metadata": {},
   "outputs": [],
   "source": [
    "K.<a> = GF(q**3, name='a', modulus=x ^ 3 - 11)"
   ]
  },
  {
   "cell_type": "code",
   "execution_count": 5,
   "id": "723d8700",
   "metadata": {},
   "outputs": [],
   "source": [
    "F3.<u> = F.extension(x ^ 3 - 11)"
   ]
  },
  {
   "cell_type": "code",
   "execution_count": 6,
   "id": "f96a66ec",
   "metadata": {},
   "outputs": [],
   "source": [
    "K6.<y> = PolynomialRing(F3)"
   ]
  },
  {
   "cell_type": "code",
   "execution_count": 7,
   "id": "aa154cee",
   "metadata": {},
   "outputs": [],
   "source": [
    "F6.<v> = F3.extension(y ^ 2 - u)"
   ]
  },
  {
   "cell_type": "code",
   "execution_count": 8,
   "id": "8e7ea1ff",
   "metadata": {},
   "outputs": [
    {
     "data": {
      "text/plain": [
       "1"
      ]
     },
     "execution_count": 8,
     "metadata": {},
     "output_type": "execute_result"
    }
   ],
   "source": [
    "pow(u, (1 - 1) / 2, q)"
   ]
  },
  {
   "cell_type": "code",
   "execution_count": 9,
   "id": "9018b414",
   "metadata": {},
   "outputs": [
    {
     "data": {
      "text/plain": [
       "762455925000469635486958154862017323551451463354236306846386042139193650814920395342797265172002456953439664163417039361154927345608957538552061332385880578563"
      ]
     },
     "execution_count": 9,
     "metadata": {},
     "output_type": "execute_result"
    }
   ],
   "source": [
    "pow(u, (q - 1) / 2, q)"
   ]
  },
  {
   "cell_type": "code",
   "execution_count": 10,
   "id": "24181e6d",
   "metadata": {},
   "outputs": [
    {
     "data": {
      "text/plain": [
       "762455925000469635486958154862017323551451463354236306846386042139193650814920395342797265172002456953439664163417039361154927345608957538552061332385880578562"
      ]
     },
     "execution_count": 10,
     "metadata": {},
     "output_type": "execute_result"
    }
   ],
   "source": [
    "pow(u, (q^2 - 1) / 2, q)"
   ]
  },
  {
   "cell_type": "code",
   "execution_count": 11,
   "id": "7e63c1e7",
   "metadata": {},
   "outputs": [
    {
     "data": {
      "text/plain": [
       "1393127037143584247199893356983111562901745574937902324694961530768859597608968253224455327034513790598090225418769269547013027125294147720154141059771190988080"
      ]
     },
     "execution_count": 11,
     "metadata": {},
     "output_type": "execute_result"
    }
   ],
   "source": [
    "pow(u, (q^3 - 1) / 2, q)"
   ]
  },
  {
   "cell_type": "code",
   "execution_count": 12,
   "id": "bddc7aab",
   "metadata": {},
   "outputs": [
    {
     "data": {
      "text/plain": [
       "630671112143114611712935202121094239350294111583666017848575488629665946794047857881658061862511333644650561255352230185858099779685190181602079727385310409518"
      ]
     },
     "execution_count": 12,
     "metadata": {},
     "output_type": "execute_result"
    }
   ],
   "source": [
    "pow(u, (q^4 - 1) / 2, q)"
   ]
  },
  {
   "cell_type": "code",
   "execution_count": 13,
   "id": "089edfeb",
   "metadata": {},
   "outputs": [
    {
     "data": {
      "text/plain": [
       "630671112143114611712935202121094239350294111583666017848575488629665946794047857881658061862511333644650561255352230185858099779685190181602079727385310409519"
      ]
     },
     "execution_count": 13,
     "metadata": {},
     "output_type": "execute_result"
    }
   ],
   "source": [
    "pow(u, (q^5 - 1) / 2, q)"
   ]
  },
  {
   "cell_type": "code",
   "execution_count": null,
   "id": "2daecd2b",
   "metadata": {},
   "outputs": [],
   "source": []
  }
 ],
 "metadata": {
  "kernelspec": {
   "display_name": "SageMath 9.2",
   "language": "sage",
   "name": "sagemath"
  },
  "language_info": {
   "codemirror_mode": {
    "name": "ipython",
    "version": 3
   },
   "file_extension": ".py",
   "mimetype": "text/x-python",
   "name": "python",
   "nbconvert_exporter": "python",
   "pygments_lexer": "ipython3",
   "version": "3.9.7"
  }
 },
 "nbformat": 4,
 "nbformat_minor": 5
}
