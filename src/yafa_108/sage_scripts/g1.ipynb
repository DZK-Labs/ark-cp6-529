{
 "cells": [
  {
   "cell_type": "code",
   "execution_count": 1,
   "id": "f890e69f",
   "metadata": {},
   "outputs": [],
   "source": [
    "q = 34780841082019471564267136767195888497161211009228542404963960302612318832664145616790153387568568877089788443330593618964694463043835803186389725227719693687026254846043853\n",
    "t = 372992445403421670819442132301882547570428511124131210420164786679808777528556315411342\n",
    "r = 57896044618658097711785492504343953926634992332820282019728792003956564819949\n",
    "k = 6\n",
    "D = -143"
   ]
  },
  {
   "cell_type": "code",
   "execution_count": 2,
   "id": "91bec88f",
   "metadata": {},
   "outputs": [],
   "source": [
    "E = EllipticCurve(GF(q), [0, 0, 0, 1, 24825092645722084837053491286769396788746345430235617199502849526235422451408810304579294435438397372068681612124384564839990996789541081487217887150398262407540693500729711])"
   ]
  },
  {
   "cell_type": "code",
   "execution_count": 3,
   "id": "391ecf70",
   "metadata": {},
   "outputs": [
    {
     "data": {
      "text/plain": [
       "34780841082019471564267136767195888497161211009228542404963960302612318832664145616789780395123165455418969001198291736417124034532711671975969560441039884909497698530632512"
      ]
     },
     "execution_count": 3,
     "metadata": {},
     "output_type": "execute_result"
    }
   ],
   "source": [
    "num_points = E.cardinality()\n",
    "num_points"
   ]
  },
  {
   "cell_type": "code",
   "execution_count": 4,
   "id": "b45244f7",
   "metadata": {},
   "outputs": [
    {
     "data": {
      "text/plain": [
       "34780841082019471564267136767195888497161211009228542404963960302612318832664145616789780395123165455418969001198291736417124034532711671975969560441039884909497698530632512"
      ]
     },
     "execution_count": 4,
     "metadata": {},
     "output_type": "execute_result"
    }
   ],
   "source": [
    "(q + 1 - t) "
   ]
  },
  {
   "cell_type": "code",
   "execution_count": 5,
   "id": "7cfce0fc",
   "metadata": {
    "scrolled": true
   },
   "outputs": [
    {
     "data": {
      "text/plain": [
       "600746412144547199455308148290259497480968394648582220356252480504778992479853140369795039873088"
      ]
     },
     "execution_count": 5,
     "metadata": {},
     "output_type": "execute_result"
    }
   ],
   "source": [
    "# this is the cofactor\n",
    "(q + 1 - t) // r"
   ]
  },
  {
   "cell_type": "code",
   "execution_count": 6,
   "id": "5500b240",
   "metadata": {},
   "outputs": [
    {
     "data": {
      "text/plain": [
       "'0x48000075360905747f162be473a7d63617cdb96cb71d1e72dc7abc2bf0661157e2bb1304f81fc840'"
      ]
     },
     "execution_count": 6,
     "metadata": {},
     "output_type": "execute_result"
    }
   ],
   "source": [
    "hex((q + 1 - t) // r)"
   ]
  },
  {
   "cell_type": "code",
   "execution_count": 7,
   "id": "feb7cf3f",
   "metadata": {},
   "outputs": [
    {
     "data": {
      "text/plain": [
       "5972489437127511544806700411551093376860164837067817990754427465568390052649"
      ]
     },
     "execution_count": 7,
     "metadata": {},
     "output_type": "execute_result"
    }
   ],
   "source": [
    "pow((q + 1 - t) // r, -1, r)"
   ]
  },
  {
   "cell_type": "code",
   "execution_count": 8,
   "id": "aae2f8bf",
   "metadata": {},
   "outputs": [
    {
     "data": {
      "text/plain": [
       "89954879874184131962173155003143000224312674242089764422235984193539665944977752714860228929590799153556406517028021747258317067654256902010478133781614354963234816904945"
      ]
     },
     "execution_count": 8,
     "metadata": {},
     "output_type": "execute_result"
    }
   ],
   "source": [
    "# find a point\n",
    "x_test = 1\n",
    "res_test = pow(x_test, 3) + x_test + 24825092645722084837053491286769396788746345430235617199502849526235422451408810304579294435438397372068681612124384564839990996789541081487217887150398262407540693500729711\n",
    "\n",
    "Mod(res_test, q).sqrt()"
   ]
  },
  {
   "cell_type": "code",
   "execution_count": 9,
   "id": "6a002ae5",
   "metadata": {},
   "outputs": [],
   "source": [
    "P = E(1, 89954879874184131962173155003143000224312674242089764422235984193539665944977752714860228929590799153556406517028021747258317067654256902010478133781614354963234816904945)"
   ]
  },
  {
   "cell_type": "code",
   "execution_count": 10,
   "id": "ea9a4d90",
   "metadata": {},
   "outputs": [
    {
     "data": {
      "text/plain": [
       "(33818160309418874668058552251830868485773349715471101193210471518827928948891517446804127304764388886806457581943404280820058646077888815702130541402825393360576989158150890 : 29848273268461784690330568480603374118611185507256267348450692492780836089310403360598168867867521739827995427185432667063725086023211304945695046674876637753935829831736123 : 1)"
      ]
     },
     "execution_count": 10,
     "metadata": {},
     "output_type": "execute_result"
    }
   ],
   "source": [
    "P2 = P * ((q + 1 - t) // r)\n",
    "P2"
   ]
  },
  {
   "cell_type": "code",
   "execution_count": 11,
   "id": "3499c817",
   "metadata": {},
   "outputs": [
    {
     "data": {
      "text/plain": [
       "(0 : 1 : 0)"
      ]
     },
     "execution_count": 11,
     "metadata": {},
     "output_type": "execute_result"
    }
   ],
   "source": [
    "P2 * r"
   ]
  },
  {
   "cell_type": "code",
   "execution_count": null,
   "id": "d9617d2d",
   "metadata": {},
   "outputs": [],
   "source": []
  }
 ],
 "metadata": {
  "kernelspec": {
   "display_name": "SageMath 9.2",
   "language": "sage",
   "name": "sagemath"
  },
  "language_info": {
   "codemirror_mode": {
    "name": "ipython",
    "version": 3
   },
   "file_extension": ".py",
   "mimetype": "text/x-python",
   "name": "python",
   "nbconvert_exporter": "python",
   "pygments_lexer": "ipython3",
   "version": "3.9.7"
  }
 },
 "nbformat": 4,
 "nbformat_minor": 5
}
