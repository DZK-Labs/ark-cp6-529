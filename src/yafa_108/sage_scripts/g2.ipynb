{
 "cells": [
  {
   "cell_type": "code",
   "execution_count": 1,
   "id": "2cdbce17",
   "metadata": {},
   "outputs": [],
   "source": [
    "q = 34780837939964648916783391909097838466714157209549513956741661668420080527396705590597622124144427710754148825442779617551149172671304488041519255243374122027992030525080041\n",
    "t = 372992428555672686789935698172304228806337918473348441569462718938730304377195952806183\n",
    "r = 57896044618658097711785492504343953926634992332820282019728792003956564819949\n",
    "k = 6\n",
    "D = -3"
   ]
  },
  {
   "cell_type": "code",
   "execution_count": 2,
   "id": "cc24e18e",
   "metadata": {},
   "outputs": [],
   "source": [
    "coeff_b = 5645376"
   ]
  },
  {
   "cell_type": "code",
   "execution_count": 3,
   "id": "d50b9e80",
   "metadata": {},
   "outputs": [
    {
     "data": {
      "text/plain": [
       "62099136"
      ]
     },
     "execution_count": 3,
     "metadata": {},
     "output_type": "execute_result"
    }
   ],
   "source": [
    "coeff_b * 11 % q"
   ]
  },
  {
   "cell_type": "code",
   "execution_count": 4,
   "id": "5c449ee6",
   "metadata": {},
   "outputs": [],
   "source": [
    "F = GF(q)\n",
    "K3.<x> = PolynomialRing(F)\n",
    "K.<a> = GF(q**3, name='a', modulus=x ^ 3 - 11)\n",
    "F3.<u> = F.extension(x ^ 3 - 11)"
   ]
  },
  {
   "cell_type": "code",
   "execution_count": 5,
   "id": "78c34412",
   "metadata": {},
   "outputs": [
    {
     "data": {
      "text/plain": [
       "62099136"
      ]
     },
     "execution_count": 5,
     "metadata": {},
     "output_type": "execute_result"
    }
   ],
   "source": [
    "b = (u)^3 * coeff_b\n",
    "b"
   ]
  },
  {
   "cell_type": "code",
   "execution_count": 6,
   "id": "85be05e8",
   "metadata": {},
   "outputs": [],
   "source": [
    "E = EllipticCurve(F3, [0, 0, 0, 0, b])"
   ]
  },
  {
   "cell_type": "code",
   "execution_count": 7,
   "id": "0e37b138",
   "metadata": {},
   "outputs": [
    {
     "data": {
      "text/plain": [
       "42074612263474829933936039089999218953333275264145505096507361180167949922675776810843924849809657360885733735461803068663448419618998350346139732225192923396886978143021447634012407977346621195994179677017968165578991780280989989545944976254937835537196719311270915548480520836084127997447188333033449556345333899154382777713843466363660468041135711844202080611778517550049888741382347585816538884386662790550643273998680667111320791291600388960443712456250454022861569583984825897441500255762247915491861374004958900"
      ]
     },
     "execution_count": 7,
     "metadata": {},
     "output_type": "execute_result"
    }
   ],
   "source": [
    "num_points = E.cardinality()\n",
    "num_points"
   ]
  },
  {
   "cell_type": "code",
   "execution_count": 10,
   "id": "aa800a34",
   "metadata": {},
   "outputs": [
    {
     "data": {
      "text/plain": [
       "726726886795224844605862069009898940861687901303075691762904985779862199643629549368160648101516193501672955437075875652993924163644219867857332814382981687662806476128613460127897964217230378169042051917041793548330220695206406784608340953286143661873591990564852877575735414956858902999883887464694646957850111726423572809242652238015382526099588420834286969916870199868835572386002046396865439392409275568594557647057684332132868235236100"
      ]
     },
     "execution_count": 10,
     "metadata": {},
     "output_type": "execute_result"
    }
   ],
   "source": [
    "cofactor = num_points // r\n",
    "cofactor"
   ]
  },
  {
   "cell_type": "code",
   "execution_count": 11,
   "id": "1e17f9ef",
   "metadata": {
    "scrolled": true
   },
   "outputs": [
    {
     "name": "stdout",
     "output_type": "stream",
     "text": [
      "0x55b65ba67d349304,\n",
      "0x19bfd908aa18a1d0,\n",
      "0xea1b02ffa4730d50,\n",
      "0x5f30f2832574c04e,\n",
      "0xe95715e341a98565,\n",
      "0x550746195d560fd8,\n",
      "0xbadab12caadb75a1,\n",
      "0x94da6c018200630a,\n",
      "0xa9b498e4a406cc19,\n",
      "0xe63352507f8897e9,\n",
      "0x7fa6743474161d96,\n",
      "0x911d512e19981a36,\n",
      "0x125b50ed21e62534,\n",
      "0x2ee37326b89dafc0,\n",
      "0x595fca9878419c72,\n",
      "0x0f27e144d8e957dc,\n",
      "0xa0461c02e6c10c7c,\n",
      "0x11b8a324657e0e5c,\n",
      "0xa1103ff7e3dbcdb6,\n",
      "0xc259971d1b71d23e,\n",
      "0xe2afc34dc49f0dbe,\n",
      "0xd71c79058c75e34a,\n",
      "0x16c80007accd8dc\n"
     ]
    }
   ],
   "source": [
    "from textwrap import wrap\n",
    "print(str(',\\n').join(list(map(lambda x: '0x' + x[::-1], wrap(hex(cofactor)[2:][::-1], 16)))))"
   ]
  },
  {
   "cell_type": "code",
   "execution_count": 12,
   "id": "369d01e0",
   "metadata": {},
   "outputs": [
    {
     "data": {
      "text/plain": [
       "22582721958699120459790815271456780810858829859261718489478745480578972630174"
      ]
     },
     "execution_count": 12,
     "metadata": {},
     "output_type": "execute_result"
    }
   ],
   "source": [
    "cofactor_inv = pow(cofactor, -1, r)\n",
    "cofactor_inv"
   ]
  },
  {
   "cell_type": "code",
   "execution_count": 27,
   "id": "531aad46",
   "metadata": {},
   "outputs": [
    {
     "data": {
      "text/plain": [
       "True"
      ]
     },
     "execution_count": 27,
     "metadata": {},
     "output_type": "execute_result"
    }
   ],
   "source": [
    "x_test = u + 3\n",
    "res_test = pow(x_test, 3)  + b\n",
    "\n",
    "res_test.is_square()"
   ]
  },
  {
   "cell_type": "code",
   "execution_count": 28,
   "id": "95bc9ad2",
   "metadata": {},
   "outputs": [
    {
     "data": {
      "text/plain": [
       "16399745525914760875122822753296350670146148646493981347801019658497465183226048954715496573023028790116281383881950421850106365423872926445380862056496154724756285267266888*u^2 + 14287254449057613428239123269232765925619703824469704202901877151310093048222249908017251200009970845728118751765949951105910650164572175833612033146936098637881156817742266*u + 6758132772659713296674995785812783864432373184366591073307284036302771603455812509439545494921164133411822976406534678356300398375494433368273205174134710647662056414848650"
      ]
     },
     "execution_count": 28,
     "metadata": {},
     "output_type": "execute_result"
    }
   ],
   "source": [
    "res_test.sqrt()"
   ]
  },
  {
   "cell_type": "code",
   "execution_count": 30,
   "id": "b28a59e5",
   "metadata": {},
   "outputs": [],
   "source": [
    "P = E(u+3, res_test.sqrt())"
   ]
  },
  {
   "cell_type": "code",
   "execution_count": 31,
   "id": "a1b339a0",
   "metadata": {},
   "outputs": [
    {
     "data": {
      "text/plain": [
       "(25392698904884709132999037760254876657725187667682696813186827970865787471891640764049212417291921682011505465948857004062296822796470822300734123777520888334658977998568595 : 4396708447983789823202089491402954890042030420320791355295989970672982059020950821852365967834639548445057566914035829163770719788716368901156926304377953920559312066532663 : 1)"
      ]
     },
     "execution_count": 31,
     "metadata": {},
     "output_type": "execute_result"
    }
   ],
   "source": [
    "P2 = P * cofactor\n",
    "P2"
   ]
  },
  {
   "cell_type": "code",
   "execution_count": 22,
   "id": "727c30f5",
   "metadata": {},
   "outputs": [
    {
     "data": {
      "text/plain": [
       "(0 : 1 : 0)"
      ]
     },
     "execution_count": 22,
     "metadata": {},
     "output_type": "execute_result"
    }
   ],
   "source": [
    "P2 * r"
   ]
  },
  {
   "cell_type": "code",
   "execution_count": null,
   "id": "37823b5f",
   "metadata": {},
   "outputs": [],
   "source": []
  }
 ],
 "metadata": {
  "kernelspec": {
   "display_name": "SageMath 9.2",
   "language": "sage",
   "name": "sagemath"
  },
  "language_info": {
   "codemirror_mode": {
    "name": "ipython",
    "version": 3
   },
   "file_extension": ".py",
   "mimetype": "text/x-python",
   "name": "python",
   "nbconvert_exporter": "python",
   "pygments_lexer": "ipython3",
   "version": "3.9.7"
  }
 },
 "nbformat": 4,
 "nbformat_minor": 5
}
