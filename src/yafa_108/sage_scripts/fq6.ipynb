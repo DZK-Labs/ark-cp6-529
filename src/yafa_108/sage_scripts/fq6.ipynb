{
 "cells": [
  {
   "cell_type": "code",
   "execution_count": 1,
   "id": "385a8d04",
   "metadata": {},
   "outputs": [],
   "source": [
    "q = 34780841082019471564267136767195888497161211009228542404963960302612318832664145616790153387568568877089788443330593618964694463043835803186389725227719693687026254846043853"
   ]
  },
  {
   "cell_type": "code",
   "execution_count": 2,
   "id": "61a8fda4",
   "metadata": {},
   "outputs": [],
   "source": [
    "F = GF(q)"
   ]
  },
  {
   "cell_type": "code",
   "execution_count": 3,
   "id": "0eda5e9e",
   "metadata": {},
   "outputs": [],
   "source": [
    "K3.<x> = PolynomialRing(F)"
   ]
  },
  {
   "cell_type": "code",
   "execution_count": 4,
   "id": "d7fc44b8",
   "metadata": {},
   "outputs": [],
   "source": [
    "K.<a> = GF(q**3, name='a', modulus=x ^ 3 - 2)"
   ]
  },
  {
   "cell_type": "code",
   "execution_count": 5,
   "id": "723d8700",
   "metadata": {},
   "outputs": [],
   "source": [
    "F3.<u> = F.extension(x ^ 3 - 2)"
   ]
  },
  {
   "cell_type": "code",
   "execution_count": 6,
   "id": "f96a66ec",
   "metadata": {},
   "outputs": [],
   "source": [
    "K6.<y> = PolynomialRing(F3)"
   ]
  },
  {
   "cell_type": "code",
   "execution_count": 7,
   "id": "aa154cee",
   "metadata": {},
   "outputs": [],
   "source": [
    "F6.<v> = F3.extension(y ^ 2 - u)"
   ]
  },
  {
   "cell_type": "code",
   "execution_count": 8,
   "id": "8e7ea1ff",
   "metadata": {},
   "outputs": [
    {
     "data": {
      "text/plain": [
       "1"
      ]
     },
     "execution_count": 8,
     "metadata": {},
     "output_type": "execute_result"
    }
   ],
   "source": [
    "pow(u, (1 - 1) / 2, q)"
   ]
  },
  {
   "cell_type": "code",
   "execution_count": 9,
   "id": "9018b414",
   "metadata": {},
   "outputs": [
    {
     "data": {
      "text/plain": [
       "24491879255480909980663669766659025805836825989868042187886821806688003935643152060455230634213282186553447257148337699253005615717746676522292850845300280294232834142169518"
      ]
     },
     "execution_count": 9,
     "metadata": {},
     "output_type": "execute_result"
    }
   ],
   "source": [
    "pow(u, (q - 1) / 2, q)"
   ]
  },
  {
   "cell_type": "code",
   "execution_count": 10,
   "id": "24181e6d",
   "metadata": {},
   "outputs": [
    {
     "data": {
      "text/plain": [
       "24491879255480909980663669766659025805836825989868042187886821806688003935643152060455230634213282186553447257148337699253005615717746676522292850845300280294232834142169517"
      ]
     },
     "execution_count": 10,
     "metadata": {},
     "output_type": "execute_result"
    }
   ],
   "source": [
    "pow(u, (q^2 - 1) / 2, q)"
   ]
  },
  {
   "cell_type": "code",
   "execution_count": 11,
   "id": "7e63c1e7",
   "metadata": {},
   "outputs": [
    {
     "data": {
      "text/plain": [
       "34780841082019471564267136767195888497161211009228542404963960302612318832664145616790153387568568877089788443330593618964694463043835803186389725227719693687026254846043852"
      ]
     },
     "execution_count": 11,
     "metadata": {},
     "output_type": "execute_result"
    }
   ],
   "source": [
    "pow(u, (q^3 - 1) / 2, q)"
   ]
  },
  {
   "cell_type": "code",
   "execution_count": 12,
   "id": "bddc7aab",
   "metadata": {},
   "outputs": [
    {
     "data": {
      "text/plain": [
       "10288961826538561583603467000536862691324385019360500217077138495924314897020993556334922753355286690536341186182255919711688847326089126664096874382419413392793420703874335"
      ]
     },
     "execution_count": 12,
     "metadata": {},
     "output_type": "execute_result"
    }
   ],
   "source": [
    "pow(u, (q^4 - 1) / 2, q)"
   ]
  },
  {
   "cell_type": "code",
   "execution_count": 13,
   "id": "089edfeb",
   "metadata": {},
   "outputs": [
    {
     "data": {
      "text/plain": [
       "10288961826538561583603467000536862691324385019360500217077138495924314897020993556334922753355286690536341186182255919711688847326089126664096874382419413392793420703874336"
      ]
     },
     "execution_count": 13,
     "metadata": {},
     "output_type": "execute_result"
    }
   ],
   "source": [
    "pow(u, (q^5 - 1) / 2, q)"
   ]
  },
  {
   "cell_type": "code",
   "execution_count": null,
   "id": "2daecd2b",
   "metadata": {},
   "outputs": [],
   "source": []
  }
 ],
 "metadata": {
  "kernelspec": {
   "display_name": "SageMath 9.2",
   "language": "sage",
   "name": "sagemath"
  },
  "language_info": {
   "codemirror_mode": {
    "name": "ipython",
    "version": 3
   },
   "file_extension": ".py",
   "mimetype": "text/x-python",
   "name": "python",
   "nbconvert_exporter": "python",
   "pygments_lexer": "ipython3",
   "version": "3.9.7"
  }
 },
 "nbformat": 4,
 "nbformat_minor": 5
}
