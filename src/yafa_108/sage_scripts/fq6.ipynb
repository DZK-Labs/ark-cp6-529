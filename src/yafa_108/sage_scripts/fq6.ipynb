{
 "cells": [
  {
   "cell_type": "code",
   "execution_count": 1,
   "id": "385a8d04",
   "metadata": {},
   "outputs": [],
   "source": [
    "q = q = 34780837939964648916783391909097838466714157209549513956741661668420080527396705590597622124144427710754148825442779617551149172671304488041519255243374122027992030525080041"
   ]
  },
  {
   "cell_type": "code",
   "execution_count": 2,
   "id": "61a8fda4",
   "metadata": {},
   "outputs": [],
   "source": [
    "F = GF(q)"
   ]
  },
  {
   "cell_type": "code",
   "execution_count": 3,
   "id": "0eda5e9e",
   "metadata": {},
   "outputs": [],
   "source": [
    "K3.<x> = PolynomialRing(F)"
   ]
  },
  {
   "cell_type": "code",
   "execution_count": 4,
   "id": "d7fc44b8",
   "metadata": {},
   "outputs": [],
   "source": [
    "K.<a> = GF(q**3, name='a', modulus=x ^ 3 - 11)"
   ]
  },
  {
   "cell_type": "code",
   "execution_count": 5,
   "id": "723d8700",
   "metadata": {},
   "outputs": [],
   "source": [
    "F3.<u> = F.extension(x ^ 3 - 11)"
   ]
  },
  {
   "cell_type": "code",
   "execution_count": 6,
   "id": "f96a66ec",
   "metadata": {},
   "outputs": [],
   "source": [
    "K6.<y> = PolynomialRing(F3)"
   ]
  },
  {
   "cell_type": "code",
   "execution_count": 7,
   "id": "aa154cee",
   "metadata": {},
   "outputs": [],
   "source": [
    "F6.<v> = F3.extension(y ^ 2 - u)"
   ]
  },
  {
   "cell_type": "code",
   "execution_count": 8,
   "id": "8e7ea1ff",
   "metadata": {},
   "outputs": [
    {
     "data": {
      "text/plain": [
       "1"
      ]
     },
     "execution_count": 8,
     "metadata": {},
     "output_type": "execute_result"
    }
   ],
   "source": [
    "pow(u, (1 - 1) / 2, q)"
   ]
  },
  {
   "cell_type": "code",
   "execution_count": 9,
   "id": "9018b414",
   "metadata": {},
   "outputs": [
    {
     "data": {
      "text/plain": [
       "26889017910506495156320058129568772566653933834480888250851357865717474104627594400663718411564763129536634204743601058030506421687843844062271438195269332524424351101183829"
      ]
     },
     "execution_count": 9,
     "metadata": {},
     "output_type": "execute_result"
    }
   ],
   "source": [
    "pow(u, (q - 1) / 2, q)"
   ]
  },
  {
   "cell_type": "code",
   "execution_count": 10,
   "id": "24181e6d",
   "metadata": {},
   "outputs": [
    {
     "data": {
      "text/plain": [
       "26889017910506495156320058129568772566653933834480888250851357865717474104627594400663718411564763129536634204743601058030506421687843844062271438195269332524424351101183828"
      ]
     },
     "execution_count": 10,
     "metadata": {},
     "output_type": "execute_result"
    }
   ],
   "source": [
    "pow(u, (q^2 - 1) / 2, q)"
   ]
  },
  {
   "cell_type": "code",
   "execution_count": 11,
   "id": "7e63c1e7",
   "metadata": {},
   "outputs": [
    {
     "data": {
      "text/plain": [
       "34780837939964648916783391909097838466714157209549513956741661668420080527396705590597622124144427710754148825442779617551149172671304488041519255243374122027992030525080040"
      ]
     },
     "execution_count": 11,
     "metadata": {},
     "output_type": "execute_result"
    }
   ],
   "source": [
    "pow(u, (q^3 - 1) / 2, q)"
   ]
  },
  {
   "cell_type": "code",
   "execution_count": 12,
   "id": "bddc7aab",
   "metadata": {},
   "outputs": [
    {
     "data": {
      "text/plain": [
       "7891820029458153760463333779529065900060223375068625705890303802702606422769111189933903712579664581217514620699178559520642750983460643979247817048104789503567679423896212"
      ]
     },
     "execution_count": 12,
     "metadata": {},
     "output_type": "execute_result"
    }
   ],
   "source": [
    "pow(u, (q^4 - 1) / 2, q)"
   ]
  },
  {
   "cell_type": "code",
   "execution_count": 13,
   "id": "089edfeb",
   "metadata": {},
   "outputs": [
    {
     "data": {
      "text/plain": [
       "7891820029458153760463333779529065900060223375068625705890303802702606422769111189933903712579664581217514620699178559520642750983460643979247817048104789503567679423896213"
      ]
     },
     "execution_count": 13,
     "metadata": {},
     "output_type": "execute_result"
    }
   ],
   "source": [
    "pow(u, (q^5 - 1) / 2, q)"
   ]
  },
  {
   "cell_type": "code",
   "execution_count": null,
   "id": "2daecd2b",
   "metadata": {},
   "outputs": [],
   "source": []
  }
 ],
 "metadata": {
  "kernelspec": {
   "display_name": "SageMath 9.2",
   "language": "sage",
   "name": "sagemath"
  },
  "language_info": {
   "codemirror_mode": {
    "name": "ipython",
    "version": 3
   },
   "file_extension": ".py",
   "mimetype": "text/x-python",
   "name": "python",
   "nbconvert_exporter": "python",
   "pygments_lexer": "ipython3",
   "version": "3.9.7"
  }
 },
 "nbformat": 4,
 "nbformat_minor": 5
}
