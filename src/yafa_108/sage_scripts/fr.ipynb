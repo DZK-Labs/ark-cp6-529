{
 "cells": [
  {
   "cell_type": "code",
   "execution_count": 1,
   "id": "04264893",
   "metadata": {},
   "outputs": [],
   "source": [
    "r = 57896044618658097711785492504343953926634992332820282019728792003956564819949"
   ]
  },
  {
   "cell_type": "code",
   "execution_count": 2,
   "id": "1603b293",
   "metadata": {},
   "outputs": [
    {
     "data": {
      "text/plain": [
       "2^2 * 3 * 65147 * 74058212732561358302231226437062788676166966415465897661863160754340907"
      ]
     },
     "execution_count": 2,
     "metadata": {},
     "output_type": "execute_result"
    }
   ],
   "source": [
    "factor(r - 1)"
   ]
  },
  {
   "cell_type": "code",
   "execution_count": 3,
   "id": "425ceac7",
   "metadata": {},
   "outputs": [
    {
     "name": "stdout",
     "output_type": "stream",
     "text": [
      "57896044618658097711785492504343953926634992332820282019728792003956564819948\n",
      "25380276437079137597092236364571181010632177832931468165172742469126098314552\n",
      "22602559476203468486837656474023958799180643873278202064348025470901666305470\n",
      "427094198651976259540344842774561673889945192655078505504941250475370961481\n"
     ]
    }
   ],
   "source": [
    "gen = 2\n",
    "print(pow(gen, (r - 1) / 2, r))\n",
    "print(pow(gen, (r - 1) / 3, r))\n",
    "print(pow(gen, (r - 1) / 65147, r))\n",
    "print(pow(gen, (r - 1) / 74058212732561358302231226437062788676166966415465897661863160754340907, r))"
   ]
  },
  {
   "cell_type": "code",
   "execution_count": null,
   "id": "f4c58ca4",
   "metadata": {},
   "outputs": [],
   "source": []
  }
 ],
 "metadata": {
  "kernelspec": {
   "display_name": "SageMath 9.2",
   "language": "sage",
   "name": "sagemath"
  },
  "language_info": {
   "codemirror_mode": {
    "name": "ipython",
    "version": 3
   },
   "file_extension": ".py",
   "mimetype": "text/x-python",
   "name": "python",
   "nbconvert_exporter": "python",
   "pygments_lexer": "ipython3",
   "version": "3.9.7"
  }
 },
 "nbformat": 4,
 "nbformat_minor": 5
}
