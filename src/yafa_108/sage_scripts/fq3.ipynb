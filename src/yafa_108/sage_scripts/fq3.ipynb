{
 "cells": [
  {
   "cell_type": "code",
   "execution_count": 1,
   "id": "01f35ca5",
   "metadata": {},
   "outputs": [],
   "source": [
    "q = 34780837939964648916783391909097838466714157209549513956741661668420080527396705590597622124144427710754148825442779617551149172671304488041519255243374122027992030525080041"
   ]
  },
  {
   "cell_type": "code",
   "execution_count": 2,
   "id": "f606f731",
   "metadata": {},
   "outputs": [],
   "source": [
    "F = GF(q)"
   ]
  },
  {
   "cell_type": "code",
   "execution_count": 3,
   "id": "a03e885c",
   "metadata": {},
   "outputs": [],
   "source": [
    "K3.<x> = PolynomialRing(F)"
   ]
  },
  {
   "cell_type": "code",
   "execution_count": 4,
   "id": "35571c44",
   "metadata": {},
   "outputs": [],
   "source": [
    "K.<a> = GF(q**3, name='a', modulus=x ^ 3 - 11)"
   ]
  },
  {
   "cell_type": "code",
   "execution_count": 5,
   "id": "5c0ff638",
   "metadata": {},
   "outputs": [],
   "source": [
    "F3.<u> = F.extension(x ^ 3 - 11)"
   ]
  },
  {
   "cell_type": "code",
   "execution_count": 6,
   "id": "ba0029ac",
   "metadata": {
    "scrolled": true
   },
   "outputs": [
    {
     "data": {
      "text/plain": [
       "False"
      ]
     },
     "execution_count": 6,
     "metadata": {},
     "output_type": "execute_result"
    }
   ],
   "source": [
    "u.is_square()"
   ]
  },
  {
   "cell_type": "code",
   "execution_count": 7,
   "id": "7f899a15",
   "metadata": {},
   "outputs": [
    {
     "data": {
      "text/plain": [
       "5259326532934353741742004886249902369166659408018188137063420147520993740334472101355490606226207170110716716932725383582931052452374793793267466528149115424610872267877680954251550997168327649499272459627246020697373972535123748693243122031867229442149589912287240792256478415796601025624376921632394783567765016672814709436974483052416265801287320625634702406105568263162862724473309516203402844270638665048900868492989683400902679291524718141992772360276258252704638843700123654723183011852684492475866215647313615"
      ]
     },
     "execution_count": 7,
     "metadata": {},
     "output_type": "execute_result"
    }
   ],
   "source": [
    "t = (q^3 - 1) // pow(2, 3)\n",
    "t"
   ]
  },
  {
   "cell_type": "code",
   "execution_count": 8,
   "id": "1179b29c",
   "metadata": {},
   "outputs": [
    {
     "data": {
      "text/plain": [
       "2629663266467176870871002443124951184583329704009094068531710073760496870167236050677745303113103585055358358466362691791465526226187396896633733264074557712305436133938840477125775498584163824749636229813623010348686986267561874346621561015933614721074794956143620396128239207898300512812188460816197391783882508336407354718487241526208132900643660312817351203052784131581431362236654758101701422135319332524450434246494841700451339645762359070996386180138129126352319421850061827361591505926342246237933107823656807"
      ]
     },
     "execution_count": 8,
     "metadata": {},
     "output_type": "execute_result"
    }
   ],
   "source": [
    "(t - 1)/2"
   ]
  },
  {
   "cell_type": "code",
   "execution_count": 9,
   "id": "c55956ef",
   "metadata": {},
   "outputs": [
    {
     "name": "stdout",
     "output_type": "stream",
     "text": [
      "0x9df37fa6adfa3f67,\n",
      "0x47e94b65dd587942,\n",
      "0xc80333b6e0d0ac78,\n",
      "0x2b6257722f37046f,\n",
      "0xfd092fd4d8b87b13,\n",
      "0x1675078c5bfca9dc,\n",
      "0x697423ba265a4597,\n",
      "0xbe63c85687f90125,\n",
      "0xfa5ea96d320f0c09,\n",
      "0x0cc15241ae6ff30e,\n",
      "0x51613fef090403f4,\n",
      "0x32757bd13a1882b3,\n",
      "0xeebbf697f70ab363,\n",
      "0x1f8381d48711040a,\n",
      "0x09db730c94d2c725,\n",
      "0x52898f07af37a87c,\n",
      "0x023f9943f709f256,\n",
      "0x5c6bd9ddfd3f3c70,\n",
      "0x8387b25e652d089b,\n",
      "0x59aedb9796302114,\n",
      "0xf7d178f3bdb92811,\n",
      "0x711bf5628c5ff289,\n",
      "0xf357a9ff2d4b9ce7,\n",
      "0xf612ccb8e8db8e91,\n",
      "0x57157e1a6e24f86d,\n",
      "0xe6b8e3c82c63af1a,\n",
      "0xb640003d666c6\n"
     ]
    }
   ],
   "source": [
    "from textwrap import wrap\n",
    "print(str(',\\n').join(list(map(lambda x: '0x' + x[::-1], wrap(hex((t - 1) / 2)[2:][::-1], 16)))))"
   ]
  },
  {
   "cell_type": "code",
   "execution_count": 10,
   "id": "0d101259",
   "metadata": {},
   "outputs": [
    {
     "data": {
      "text/plain": [
       "20352210931107105404090576606765520961773321791847852436891069667257662057768295150100850989487484739038066884340836714918897718329742678773708674671463699964752171757206793"
      ]
     },
     "execution_count": 10,
     "metadata": {},
     "output_type": "execute_result"
    }
   ],
   "source": [
    "pow(u, t, q)"
   ]
  },
  {
   "cell_type": "code",
   "execution_count": 11,
   "id": "815e705e",
   "metadata": {},
   "outputs": [
    {
     "data": {
      "text/plain": [
       "1"
      ]
     },
     "execution_count": 11,
     "metadata": {},
     "output_type": "execute_result"
    }
   ],
   "source": [
    "pow(11, (1 - 1)/3, q)"
   ]
  },
  {
   "cell_type": "code",
   "execution_count": 12,
   "id": "3abeb0c9",
   "metadata": {},
   "outputs": [
    {
     "data": {
      "text/plain": [
       "26889017910506495156320058129568772566653933834480888250851357865717474104627594400663718411564763129536634204743601058030506421687843844062271438195269332524424351101183828"
      ]
     },
     "execution_count": 12,
     "metadata": {},
     "output_type": "execute_result"
    }
   ],
   "source": [
    "pow(11, (q - 1)/3, q)"
   ]
  },
  {
   "cell_type": "code",
   "execution_count": 13,
   "id": "7afc2491",
   "metadata": {},
   "outputs": [
    {
     "data": {
      "text/plain": [
       "7891820029458153760463333779529065900060223375068625705890303802702606422769111189933903712579664581217514620699178559520642750983460643979247817048104789503567679423896212"
      ]
     },
     "execution_count": 13,
     "metadata": {},
     "output_type": "execute_result"
    }
   ],
   "source": [
    "pow(11, (q^2 - 1)/3, q)"
   ]
  },
  {
   "cell_type": "code",
   "execution_count": 14,
   "id": "d0dd2c52",
   "metadata": {},
   "outputs": [
    {
     "data": {
      "text/plain": [
       "1"
      ]
     },
     "execution_count": 14,
     "metadata": {},
     "output_type": "execute_result"
    }
   ],
   "source": [
    "pow(2, (2 * 1 - 2)/3, q)"
   ]
  },
  {
   "cell_type": "code",
   "execution_count": 15,
   "id": "554a9386",
   "metadata": {},
   "outputs": [
    {
     "data": {
      "text/plain": [
       "7891820029458153760463333779529065900060223375068625705890303802702606422769111189933903712579664581217514620699178559520642750983460643979247817048104789503567679423896212"
      ]
     },
     "execution_count": 15,
     "metadata": {},
     "output_type": "execute_result"
    }
   ],
   "source": [
    "pow(2, (2 * q - 2)/3, q)"
   ]
  },
  {
   "cell_type": "code",
   "execution_count": 16,
   "id": "2824c3bc",
   "metadata": {},
   "outputs": [
    {
     "data": {
      "text/plain": [
       "26889017910506495156320058129568772566653933834480888250851357865717474104627594400663718411564763129536634204743601058030506421687843844062271438195269332524424351101183828"
      ]
     },
     "execution_count": 16,
     "metadata": {},
     "output_type": "execute_result"
    }
   ],
   "source": [
    "pow(2, (2 * q^2 - 2)/3, q)"
   ]
  },
  {
   "cell_type": "code",
   "execution_count": null,
   "id": "01c92673",
   "metadata": {},
   "outputs": [],
   "source": []
  }
 ],
 "metadata": {
  "kernelspec": {
   "display_name": "SageMath 9.2",
   "language": "sage",
   "name": "sagemath"
  },
  "language_info": {
   "codemirror_mode": {
    "name": "ipython",
    "version": 3
   },
   "file_extension": ".py",
   "mimetype": "text/x-python",
   "name": "python",
   "nbconvert_exporter": "python",
   "pygments_lexer": "ipython3",
   "version": "3.9.7"
  }
 },
 "nbformat": 4,
 "nbformat_minor": 5
}
