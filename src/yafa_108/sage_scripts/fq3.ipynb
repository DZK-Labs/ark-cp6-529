{
 "cells": [
  {
   "cell_type": "code",
   "execution_count": 1,
   "id": "01f35ca5",
   "metadata": {},
   "outputs": [],
   "source": [
    "q = 34780841082019471564267136767195888497161211009228542404963960302612318832664145616790153387568568877089788443330593618964694463043835803186389725227719693687026254846043853"
   ]
  },
  {
   "cell_type": "code",
   "execution_count": 2,
   "id": "f606f731",
   "metadata": {},
   "outputs": [],
   "source": [
    "F = GF(q)"
   ]
  },
  {
   "cell_type": "code",
   "execution_count": 3,
   "id": "a03e885c",
   "metadata": {},
   "outputs": [],
   "source": [
    "K3.<x> = PolynomialRing(F)"
   ]
  },
  {
   "cell_type": "code",
   "execution_count": 4,
   "id": "35571c44",
   "metadata": {},
   "outputs": [],
   "source": [
    "K.<a> = GF(q**3, name='a', modulus=x ^ 3 - 2)"
   ]
  },
  {
   "cell_type": "code",
   "execution_count": 5,
   "id": "5c0ff638",
   "metadata": {},
   "outputs": [],
   "source": [
    "F3.<u> = F.extension(x ^ 3 - 2)"
   ]
  },
  {
   "cell_type": "code",
   "execution_count": 6,
   "id": "ba0029ac",
   "metadata": {
    "scrolled": true
   },
   "outputs": [
    {
     "data": {
      "text/plain": [
       "False"
      ]
     },
     "execution_count": 6,
     "metadata": {},
     "output_type": "execute_result"
    }
   ],
   "source": [
    "u.is_square()"
   ]
  },
  {
   "cell_type": "code",
   "execution_count": 7,
   "id": "7f899a15",
   "metadata": {},
   "outputs": [
    {
     "data": {
      "text/plain": [
       "10518655916592514321596679235478808622575732239035774077194040134107581129874774316375377015678675883776342990801379400927358815549002621217058321901313287581756943922678114745110122599476512521107568958764388002145332459171396629941905035567405438121679897167411877619602633537152820023461395533673841345683079501517297364960273742851517928154650351906315185085380047059213209219491287923473734724709061150232558594010924122305393908215674433420695354415011738631735514762345341401574122211001564684322963916678802869"
      ]
     },
     "execution_count": 7,
     "metadata": {},
     "output_type": "execute_result"
    }
   ],
   "source": [
    "t = (q^3 - 1) // pow(2, 2)\n",
    "t"
   ]
  },
  {
   "cell_type": "code",
   "execution_count": 8,
   "id": "1179b29c",
   "metadata": {},
   "outputs": [
    {
     "data": {
      "text/plain": [
       "5259327958296257160798339617739404311287866119517887038597020067053790564937387158187688507839337941888171495400689700463679407774501310608529160950656643790878471961339057372555061299738256260553784479382194001072666229585698314970952517783702719060839948583705938809801316768576410011730697766836920672841539750758648682480136871425758964077325175953157592542690023529606604609745643961736867362354530575116279297005462061152696954107837216710347677207505869315867757381172670700787061105500782342161481958339401434"
      ]
     },
     "execution_count": 8,
     "metadata": {},
     "output_type": "execute_result"
    }
   ],
   "source": [
    "(t - 1)/2"
   ]
  },
  {
   "cell_type": "code",
   "execution_count": 9,
   "id": "c55956ef",
   "metadata": {},
   "outputs": [
    {
     "data": {
      "text/plain": [
       "'0x16c8006f424b454ccdd742076ed59cdc9411433bec1eaf0682d9d3698335dbcd44234daeca7c56c7217cb5188309ad02d0d85cab04841f5fa5e36e78fb34a7fde8e876dc941e2fe2e1d7dfc7929256562055c1b7798d32070cd9ff2daec96ac4f6a439a121fba1c4dbd8f460f79d16f7051e002352990ba6075906923415f8eaa949196ebae1257d6158f24158cb6622f05e2ac0b3be2a948f916cdc9c613d04898fe404b80dd3c63c145d2c6ee8e37864cf71a2cef4a8f3de5b89b6818375ff4016612678cd533f671a40f80e154d44d0a5d4d4cc56da'"
      ]
     },
     "execution_count": 9,
     "metadata": {},
     "output_type": "execute_result"
    }
   ],
   "source": [
    "hex((t - 1) / 2)"
   ]
  },
  {
   "cell_type": "code",
   "execution_count": 10,
   "id": "0d101259",
   "metadata": {},
   "outputs": [
    {
     "data": {
      "text/plain": [
       "14406324992416917075107177930030367158384890523362000749100473207959049460198256235973675809354785447933353927206167081029252435762580516269064278530936810650739227629472879"
      ]
     },
     "execution_count": 10,
     "metadata": {},
     "output_type": "execute_result"
    }
   ],
   "source": [
    "pow(u, t, q)"
   ]
  },
  {
   "cell_type": "code",
   "execution_count": 11,
   "id": "815e705e",
   "metadata": {},
   "outputs": [
    {
     "data": {
      "text/plain": [
       "1"
      ]
     },
     "execution_count": 11,
     "metadata": {},
     "output_type": "execute_result"
    }
   ],
   "source": [
    "pow(2, (1 - 1)/3, q)"
   ]
  },
  {
   "cell_type": "code",
   "execution_count": 12,
   "id": "3abeb0c9",
   "metadata": {},
   "outputs": [
    {
     "data": {
      "text/plain": [
       "24491879255480909980663669766659025805836825989868042187886821806688003935643152060455230634213282186553447257148337699253005615717746676522292850845300280294232834142169517"
      ]
     },
     "execution_count": 12,
     "metadata": {},
     "output_type": "execute_result"
    }
   ],
   "source": [
    "pow(2, (q - 1)/3, q)"
   ]
  },
  {
   "cell_type": "code",
   "execution_count": 13,
   "id": "7afc2491",
   "metadata": {},
   "outputs": [
    {
     "data": {
      "text/plain": [
       "10288961826538561583603467000536862691324385019360500217077138495924314897020993556334922753355286690536341186182255919711688847326089126664096874382419413392793420703874335"
      ]
     },
     "execution_count": 13,
     "metadata": {},
     "output_type": "execute_result"
    }
   ],
   "source": [
    "pow(2, (q^2 - 1)/3, q)"
   ]
  },
  {
   "cell_type": "code",
   "execution_count": 14,
   "id": "d0dd2c52",
   "metadata": {},
   "outputs": [
    {
     "data": {
      "text/plain": [
       "1"
      ]
     },
     "execution_count": 14,
     "metadata": {},
     "output_type": "execute_result"
    }
   ],
   "source": [
    "pow(2, (2 * 1 - 2)/3, q)"
   ]
  },
  {
   "cell_type": "code",
   "execution_count": 15,
   "id": "554a9386",
   "metadata": {},
   "outputs": [
    {
     "data": {
      "text/plain": [
       "10288961826538561583603467000536862691324385019360500217077138495924314897020993556334922753355286690536341186182255919711688847326089126664096874382419413392793420703874335"
      ]
     },
     "execution_count": 15,
     "metadata": {},
     "output_type": "execute_result"
    }
   ],
   "source": [
    "pow(2, (2 * q - 2)/3, q)"
   ]
  },
  {
   "cell_type": "code",
   "execution_count": 16,
   "id": "2824c3bc",
   "metadata": {},
   "outputs": [
    {
     "data": {
      "text/plain": [
       "24491879255480909980663669766659025805836825989868042187886821806688003935643152060455230634213282186553447257148337699253005615717746676522292850845300280294232834142169517"
      ]
     },
     "execution_count": 16,
     "metadata": {},
     "output_type": "execute_result"
    }
   ],
   "source": [
    "pow(2, (2 * q^2 - 2)/3, q)"
   ]
  },
  {
   "cell_type": "code",
   "execution_count": null,
   "id": "01c92673",
   "metadata": {},
   "outputs": [],
   "source": []
  }
 ],
 "metadata": {
  "kernelspec": {
   "display_name": "SageMath 9.2",
   "language": "sage",
   "name": "sagemath"
  },
  "language_info": {
   "codemirror_mode": {
    "name": "ipython",
    "version": 3
   },
   "file_extension": ".py",
   "mimetype": "text/x-python",
   "name": "python",
   "nbconvert_exporter": "python",
   "pygments_lexer": "ipython3",
   "version": "3.9.7"
  }
 },
 "nbformat": 4,
 "nbformat_minor": 5
}
