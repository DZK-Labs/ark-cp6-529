{
 "cells": [
  {
   "cell_type": "code",
   "execution_count": 1,
   "id": "64fc7f1b",
   "metadata": {},
   "outputs": [],
   "source": [
    "q = 34780837939964648916783391909097838466714157209549513956741661668420080527396705590597622124144427710754148825442779617551149172671304488041519255243374122027992030525080041\n",
    "t = 372992428555672686789935698172304228806337918473348441569462718938730304377195952806183\n",
    "r = 57896044618658097711785492504343953926634992332820282019728792003956564819949\n",
    "k = 6\n",
    "D = -3"
   ]
  },
  {
   "cell_type": "code",
   "execution_count": 2,
   "id": "ceda5649",
   "metadata": {},
   "outputs": [
    {
     "data": {
      "text/plain": [
       "372992428555672686789935698172304228806337918473348441569462718938730304377195952806182"
      ]
     },
     "execution_count": 2,
     "metadata": {},
     "output_type": "execute_result"
    }
   ],
   "source": [
    "t - 1"
   ]
  },
  {
   "cell_type": "code",
   "execution_count": 4,
   "id": "24c7e7d7",
   "metadata": {},
   "outputs": [
    {
     "name": "stdout",
     "output_type": "stream",
     "text": [
      "0x55792745f9e71926,\n",
      "0xe5e55257bec5baaf,\n",
      "0x2678d0333aa42ad6,\n",
      "0xc7e345c9559a9a4a,\n",
      "0xc000000a\n"
     ]
    }
   ],
   "source": [
    "from textwrap import wrap\n",
    "print(str(',\\n').join(list(map(lambda x: '0x' + x[::-1], wrap(hex(t-1)[2:][::-1], 16)))))"
   ]
  },
  {
   "cell_type": "code",
   "execution_count": 5,
   "id": "a5741bdf",
   "metadata": {},
   "outputs": [
    {
     "data": {
      "text/plain": [
       "20894461716236716016875785053850294982375776886557019725353459493100828518980584243730895749122649736405756577701782653729774231835632124249855910835478837938743753305311906680997129380276998729495177467324627148976805583592148311106889004480131942730532405574767252909"
      ]
     },
     "execution_count": 5,
     "metadata": {},
     "output_type": "execute_result"
    }
   ],
   "source": [
    "remaining = (q ^ 6 - 1) // (q ^ 3 - 1) // (q + 1) // r\n",
    "remaining"
   ]
  },
  {
   "cell_type": "code",
   "execution_count": 6,
   "id": "9a6ca5fe",
   "metadata": {},
   "outputs": [
    {
     "data": {
      "text/plain": [
       "19533729308556160109794825562832707092134991522349430861538344636908041560785866966036323918363729219562215110665533950746637708295543215802259030565596621823690292271103113"
      ]
     },
     "execution_count": 6,
     "metadata": {},
     "output_type": "execute_result"
    }
   ],
   "source": [
    "w0 = remaining % q\n",
    "w0"
   ]
  },
  {
   "cell_type": "code",
   "execution_count": 7,
   "id": "36b3c2dc",
   "metadata": {},
   "outputs": [
    {
     "data": {
      "text/plain": [
       "600746357873917083993205832519317177466334726496174638989123538389804293458724181786507272967556"
      ]
     },
     "execution_count": 7,
     "metadata": {},
     "output_type": "execute_result"
    }
   ],
   "source": [
    "w1 = remaining // q\n",
    "w1"
   ]
  },
  {
   "cell_type": "code",
   "execution_count": 8,
   "id": "de1d48d6",
   "metadata": {},
   "outputs": [
    {
     "name": "stdout",
     "output_type": "stream",
     "text": [
      "0x7d919d468ad5bc89,\n",
      "0x851c91204bcf98dc,\n",
      "0x1ccd844b0de55ff8,\n",
      "0x36bd1be87c106c82,\n",
      "0xcfe6ae45c3d21c71,\n",
      "0x96d3c4ddb45de345,\n",
      "0xe20009f1de3c5d1f,\n",
      "0xc534aab128f9dd7a,\n",
      "0x1437eba2e55524f8\n"
     ]
    }
   ],
   "source": [
    "from textwrap import wrap\n",
    "print(str(',\\n').join(list(map(lambda x: '0x' + x[::-1], wrap(hex(w0)[2:][::-1], 16)))))"
   ]
  },
  {
   "cell_type": "code",
   "execution_count": 9,
   "id": "b2b8c088",
   "metadata": {},
   "outputs": [
    {
     "name": "stdout",
     "output_type": "stream",
     "text": [
      "0xed29225c5506d584,\n",
      "0x4360c489b2a69d35,\n",
      "0xd497d8292a77e57a,\n",
      "0x2e5856438790676e,\n",
      "0x4800000815ea74e0\n"
     ]
    }
   ],
   "source": [
    "from textwrap import wrap\n",
    "print(str(',\\n').join(list(map(lambda x: '0x' + x[::-1], wrap(hex(w1)[2:][::-1], 16)))))"
   ]
  },
  {
   "cell_type": "code",
   "execution_count": null,
   "id": "aecca3d7",
   "metadata": {},
   "outputs": [],
   "source": []
  }
 ],
 "metadata": {
  "kernelspec": {
   "display_name": "SageMath 9.2",
   "language": "sage",
   "name": "sagemath"
  },
  "language_info": {
   "codemirror_mode": {
    "name": "ipython",
    "version": 3
   },
   "file_extension": ".py",
   "mimetype": "text/x-python",
   "name": "python",
   "nbconvert_exporter": "python",
   "pygments_lexer": "ipython3",
   "version": "3.9.7"
  }
 },
 "nbformat": 4,
 "nbformat_minor": 5
}
