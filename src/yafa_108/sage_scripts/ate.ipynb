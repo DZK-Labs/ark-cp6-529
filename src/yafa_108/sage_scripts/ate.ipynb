{
 "cells": [
  {
   "cell_type": "code",
   "execution_count": 1,
   "id": "64fc7f1b",
   "metadata": {},
   "outputs": [],
   "source": [
    "q = 34780841082019471564267136767195888497161211009228542404963960302612318832664145616790153387568568877089788443330593618964694463043835803186389725227719693687026254846043853\n",
    "t = 372992445403421670819442132301882547570428511124131210420164786679808777528556315411342\n",
    "r = 57896044618658097711785492504343953926634992332820282019728792003956564819949\n",
    "k = 6\n",
    "D = -143"
   ]
  },
  {
   "cell_type": "code",
   "execution_count": 2,
   "id": "ceda5649",
   "metadata": {},
   "outputs": [
    {
     "data": {
      "text/plain": [
       "372992445403421670819442132301882547570428511124131210420164786679808777528556315411341"
      ]
     },
     "execution_count": 2,
     "metadata": {},
     "output_type": "execute_result"
    }
   ],
   "source": [
    "t - 1"
   ]
  },
  {
   "cell_type": "code",
   "execution_count": 3,
   "id": "24c7e7d7",
   "metadata": {},
   "outputs": [
    {
     "data": {
      "text/plain": [
       "'0xc000009c47e345c9559a9a4a2678d0333aa42ad6e5e55257bec5baaf55792745f9e7038d'"
      ]
     },
     "execution_count": 3,
     "metadata": {},
     "output_type": "execute_result"
    }
   ],
   "source": [
    "hex(t - 1)"
   ]
  },
  {
   "cell_type": "code",
   "execution_count": 4,
   "id": "a5741bdf",
   "metadata": {},
   "outputs": [
    {
     "data": {
      "text/plain": [
       "20894465491392868429475554049513243575567276344880930326965742452085975193443517407995954583987954643489827644186808865932431682681688790409706157791166759394826913793507233244581004006874077599449365242750621755069517520118313799967833141305810598139953015002955788593"
      ]
     },
     "execution_count": 4,
     "metadata": {},
     "output_type": "execute_result"
    }
   ],
   "source": [
    "remaining = (q ^ 6 - 1) // (q ^ 3 - 1) // (q + 1) // r\n",
    "remaining"
   ]
  },
  {
   "cell_type": "code",
   "execution_count": 5,
   "id": "9a6ca5fe",
   "metadata": {},
   "outputs": [
    {
     "data": {
      "text/plain": [
       "19533731073207388012378338389467147321952799507004027602120097593540492719109989264168193066083831322222399106936053605103753388004158213616940547405614189990736827562331161"
      ]
     },
     "execution_count": 5,
     "metadata": {},
     "output_type": "execute_result"
    }
   ],
   "source": [
    "w0 = remaining % q\n",
    "w0"
   ]
  },
  {
   "cell_type": "code",
   "execution_count": 6,
   "id": "36b3c2dc",
   "metadata": {},
   "outputs": [
    {
     "data": {
      "text/plain": [
       "600746412144547199455308148290259497480968394648582220356252480504778992479853140369801482324344"
      ]
     },
     "execution_count": 6,
     "metadata": {},
     "output_type": "execute_result"
    }
   ],
   "source": [
    "w1 = remaining // q\n",
    "w1"
   ]
  },
  {
   "cell_type": "code",
   "execution_count": 7,
   "id": "de1d48d6",
   "metadata": {},
   "outputs": [
    {
     "data": {
      "text/plain": [
       "'0x1437ebc18a1ed9a70da5a4ce11e1c6428e7db93d38b0bd875b5259e8ae3c723e0a1ac894fb4e064d7d72f866fc8679625fe7da3eac81af7eb32840686d9b3d301dc822b236540c19'"
      ]
     },
     "execution_count": 7,
     "metadata": {},
     "output_type": "execute_result"
    }
   ],
   "source": [
    "hex(w0)"
   ]
  },
  {
   "cell_type": "code",
   "execution_count": 8,
   "id": "b2b8c088",
   "metadata": {},
   "outputs": [
    {
     "data": {
      "text/plain": [
       "'0x48000075360905747f162be473a7d63617cdb96cb71d1e72dc7abc2bf0661157e2bb1306781fc978'"
      ]
     },
     "execution_count": 8,
     "metadata": {},
     "output_type": "execute_result"
    }
   ],
   "source": [
    "hex(w1)"
   ]
  },
  {
   "cell_type": "code",
   "execution_count": null,
   "id": "aecca3d7",
   "metadata": {},
   "outputs": [],
   "source": []
  }
 ],
 "metadata": {
  "kernelspec": {
   "display_name": "SageMath 9.2",
   "language": "sage",
   "name": "sagemath"
  },
  "language_info": {
   "codemirror_mode": {
    "name": "ipython",
    "version": 3
   },
   "file_extension": ".py",
   "mimetype": "text/x-python",
   "name": "python",
   "nbconvert_exporter": "python",
   "pygments_lexer": "ipython3",
   "version": "3.9.7"
  }
 },
 "nbformat": 4,
 "nbformat_minor": 5
}
