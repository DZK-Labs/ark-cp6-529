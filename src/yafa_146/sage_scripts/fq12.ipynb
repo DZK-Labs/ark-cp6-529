{
 "cells": [
  {
   "cell_type": "code",
   "execution_count": 1,
   "id": "c81fe122",
   "metadata": {},
   "outputs": [],
   "source": [
    "q = 34780846793597649115902360759330114765953831037762036596538890219938834838634659810167270279641323601509886108333904651602464968545001642013075102043510458751533543897428201"
   ]
  },
  {
   "cell_type": "code",
   "execution_count": 2,
   "id": "143f2261",
   "metadata": {},
   "outputs": [],
   "source": [
    "F = GF(q)"
   ]
  },
  {
   "cell_type": "code",
   "execution_count": 3,
   "id": "02361885",
   "metadata": {},
   "outputs": [],
   "source": [
    "K2.<x> = PolynomialRing(F)"
   ]
  },
  {
   "cell_type": "code",
   "execution_count": 4,
   "id": "ba6ab036",
   "metadata": {},
   "outputs": [],
   "source": [
    "K.<a> = GF(q**2, name='a', modulus=x ^ 2 - 17)"
   ]
  },
  {
   "cell_type": "code",
   "execution_count": 5,
   "id": "64303374",
   "metadata": {},
   "outputs": [],
   "source": [
    "F2.<u> = F.extension(x ^ 2 - 17)"
   ]
  },
  {
   "cell_type": "code",
   "execution_count": 6,
   "id": "b588a82d",
   "metadata": {},
   "outputs": [],
   "source": [
    "K12.<y> = PolynomialRing(F2)"
   ]
  },
  {
   "cell_type": "code",
   "execution_count": 7,
   "id": "056097e2",
   "metadata": {},
   "outputs": [],
   "source": [
    "F12.<v> = F2.extension(y ^ 6 - 7 * u)"
   ]
  },
  {
   "cell_type": "code",
   "execution_count": 9,
   "id": "261819ba",
   "metadata": {},
   "outputs": [],
   "source": [
    "nqr = 7 * u"
   ]
  },
  {
   "cell_type": "code",
   "execution_count": 10,
   "id": "b8a745fa",
   "metadata": {},
   "outputs": [
    {
     "data": {
      "text/plain": [
       "1"
      ]
     },
     "execution_count": 10,
     "metadata": {},
     "output_type": "execute_result"
    }
   ],
   "source": [
    "pow(nqr, (1 - 1) / 6, q)"
   ]
  },
  {
   "cell_type": "code",
   "execution_count": 11,
   "id": "8fdc91f6",
   "metadata": {},
   "outputs": [
    {
     "data": {
      "text/plain": [
       "9757343029987591069013430723332555716764177764656978728841444494531159349743151210232131816856726985640020017286790614871202650243562239715172816245122613981088516801294330"
      ]
     },
     "execution_count": 11,
     "metadata": {},
     "output_type": "execute_result"
    }
   ],
   "source": [
    "pow(nqr, (q - 1) / 6, q)"
   ]
  },
  {
   "cell_type": "code",
   "execution_count": 12,
   "id": "e7ef27ac",
   "metadata": {},
   "outputs": [
    {
     "data": {
      "text/plain": [
       "22684684505229882416948285270218997440839683235327132785256469607245693680604029123404282437563474551944295516999841064542480240558845597162904726440521080541363789749413060"
      ]
     },
     "execution_count": 12,
     "metadata": {},
     "output_type": "execute_result"
    }
   ],
   "source": [
    "pow(nqr, (q^2 - 1) / 6, q)"
   ]
  },
  {
   "cell_type": "code",
   "execution_count": 13,
   "id": "b80e54a5",
   "metadata": {},
   "outputs": [
    {
     "data": {
      "text/plain": [
       "10907262302462287557760590083099326333305744449331424419812495591525729643523851429020508443027605463784203812151719095264580234048899993127396134080477967224420449328059879"
      ]
     },
     "execution_count": 13,
     "metadata": {},
     "output_type": "execute_result"
    }
   ],
   "source": [
    "pow(nqr, (q^3 - 1) / 6, q)"
   ]
  },
  {
   "cell_type": "code",
   "execution_count": 14,
   "id": "ecbe431e",
   "metadata": {},
   "outputs": [
    {
     "data": {
      "text/plain": [
       "22684684505229882416948285270218997440839683235327132785256469607245693680604029123404282437563474551944295516999841064542480240558845597162904726440521080541363789749413059"
      ]
     },
     "execution_count": 14,
     "metadata": {},
     "output_type": "execute_result"
    }
   ],
   "source": [
    "pow(nqr, (q^4 - 1) / 6, q)"
   ]
  },
  {
   "cell_type": "code",
   "execution_count": 15,
   "id": "acf5e89a",
   "metadata": {},
   "outputs": [
    {
     "data": {
      "text/plain": [
       "1149919272474696488747159359766770616541566684674445690971051096994570293780700218788376626170878478144183794864928480393377583805337753412223317835355353243331932526765549"
      ]
     },
     "execution_count": 15,
     "metadata": {},
     "output_type": "execute_result"
    }
   ],
   "source": [
    "pow(nqr, (q^5 - 1) / 6, q)"
   ]
  },
  {
   "cell_type": "code",
   "execution_count": 16,
   "id": "c45993af",
   "metadata": {},
   "outputs": [
    {
     "data": {
      "text/plain": [
       "34780846793597649115902360759330114765953831037762036596538890219938834838634659810167270279641323601509886108333904651602464968545001642013075102043510458751533543897428200"
      ]
     },
     "execution_count": 16,
     "metadata": {},
     "output_type": "execute_result"
    }
   ],
   "source": [
    "pow(nqr, (q^6 - 1) / 6, q)"
   ]
  },
  {
   "cell_type": "code",
   "execution_count": 17,
   "id": "4d51dd48",
   "metadata": {},
   "outputs": [
    {
     "data": {
      "text/plain": [
       "25023503763610058046888930035997559049189653273105057867697445725407675488891508599935138462784596615869866091047114036731262318301439402297902285798387844770445027096133871"
      ]
     },
     "execution_count": 17,
     "metadata": {},
     "output_type": "execute_result"
    }
   ],
   "source": [
    "pow(nqr, (q^7 - 1) / 6, q)"
   ]
  },
  {
   "cell_type": "code",
   "execution_count": 18,
   "id": "96784ce5",
   "metadata": {},
   "outputs": [
    {
     "data": {
      "text/plain": [
       "12096162288367766698954075489111117325114147802434903811282420612693141158030630686762987842077849049565590591334063587059984727986156044850170375602989378210169754148015141"
      ]
     },
     "execution_count": 18,
     "metadata": {},
     "output_type": "execute_result"
    }
   ],
   "source": [
    "pow(nqr, (q^8 - 1) / 6, q)"
   ]
  },
  {
   "cell_type": "code",
   "execution_count": 19,
   "id": "78cba54d",
   "metadata": {},
   "outputs": [
    {
     "data": {
      "text/plain": [
       "23873584491135361558141770676230788432648086588430612176726394628413105195110808381146761836613718137725682296182185556337884734496101648885678967963032491527113094569368322"
      ]
     },
     "execution_count": 19,
     "metadata": {},
     "output_type": "execute_result"
    }
   ],
   "source": [
    "pow(nqr, (q^9 - 1) / 6, q)"
   ]
  },
  {
   "cell_type": "code",
   "execution_count": 20,
   "id": "d58dafca",
   "metadata": {},
   "outputs": [
    {
     "data": {
      "text/plain": [
       "12096162288367766698954075489111117325114147802434903811282420612693141158030630686762987842077849049565590591334063587059984727986156044850170375602989378210169754148015142"
      ]
     },
     "execution_count": 20,
     "metadata": {},
     "output_type": "execute_result"
    }
   ],
   "source": [
    "pow(nqr, (q^10 - 1) / 6, q)"
   ]
  },
  {
   "cell_type": "code",
   "execution_count": 21,
   "id": "64045aa2",
   "metadata": {},
   "outputs": [
    {
     "data": {
      "text/plain": [
       "33630927521122952627155201399563344149412264353087590905567839122944264544853959591378893653470445123365702313468976171209087384739663888600851784208155105508201611370662652"
      ]
     },
     "execution_count": 21,
     "metadata": {},
     "output_type": "execute_result"
    }
   ],
   "source": [
    "pow(nqr, (q^11 - 1) / 6, q)"
   ]
  },
  {
   "cell_type": "code",
   "execution_count": null,
   "id": "b728e1af",
   "metadata": {},
   "outputs": [],
   "source": []
  }
 ],
 "metadata": {
  "kernelspec": {
   "display_name": "SageMath 9.2",
   "language": "sage",
   "name": "sagemath"
  },
  "language_info": {
   "codemirror_mode": {
    "name": "ipython",
    "version": 3
   },
   "file_extension": ".py",
   "mimetype": "text/x-python",
   "name": "python",
   "nbconvert_exporter": "python",
   "pygments_lexer": "ipython3",
   "version": "3.9.7"
  }
 },
 "nbformat": 4,
 "nbformat_minor": 5
}
