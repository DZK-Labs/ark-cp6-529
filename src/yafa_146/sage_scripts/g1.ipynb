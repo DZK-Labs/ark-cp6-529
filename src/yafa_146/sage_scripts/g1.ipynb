{
 "cells": [
  {
   "cell_type": "code",
   "execution_count": 18,
   "id": "f890e69f",
   "metadata": {},
   "outputs": [],
   "source": [
    "q = 34780846793597649115902360759330114765953831037762036596538890219938834838634659810167270279641323601509886108333904651602464968545001642013075102043510458751533543897428201\n",
    "t = 372992476029187189170462968044878524314803726725266721356058824603476064987295668589899\n",
    "r = 57896044618658097711785492504343953926634992332820282019728792003956564819949\n",
    "k = 12\n",
    "D = -3"
   ]
  },
  {
   "cell_type": "code",
   "execution_count": 19,
   "id": "91bec88f",
   "metadata": {},
   "outputs": [],
   "source": [
    "coeff_b = 33355508094144\n",
    "E = EllipticCurve(GF(q), [0, 0, 0, 0, coeff_b])"
   ]
  },
  {
   "cell_type": "code",
   "execution_count": 20,
   "id": "391ecf70",
   "metadata": {},
   "outputs": [
    {
     "data": {
      "text/plain": [
       "34780846793597649115902360759330114765953831037762036596538890219938834838634659810166897287165294414320715645365859773078150164818276375291719043218906982686546248228838303"
      ]
     },
     "execution_count": 20,
     "metadata": {},
     "output_type": "execute_result"
    }
   ],
   "source": [
    "num_points = E.cardinality()\n",
    "num_points"
   ]
  },
  {
   "cell_type": "code",
   "execution_count": 21,
   "id": "b45244f7",
   "metadata": {},
   "outputs": [
    {
     "data": {
      "text/plain": [
       "34780846793597649115902360759330114765953831037762036596538890219938834838634659810166897287165294414320715645365859773078150164818276375291719043218906982686546248228838303"
      ]
     },
     "execution_count": 21,
     "metadata": {},
     "output_type": "execute_result"
    }
   ],
   "source": [
    "(q + 1 - t) "
   ]
  },
  {
   "cell_type": "code",
   "execution_count": 22,
   "id": "7cfce0fc",
   "metadata": {
    "scrolled": true
   },
   "outputs": [
    {
     "data": {
      "text/plain": [
       "600746510796850913325441891520214792552399427644760978176030334322268158184417708567424169484347"
      ]
     },
     "execution_count": 22,
     "metadata": {},
     "output_type": "execute_result"
    }
   ],
   "source": [
    "# this is the cofactor\n",
    "(q + 1 - t) // r"
   ]
  },
  {
   "cell_type": "code",
   "execution_count": 23,
   "id": "5500b240",
   "metadata": {},
   "outputs": [
    {
     "name": "stdout",
     "output_type": "stream",
     "text": [
      "0xba0cbd29dbed203b,\n",
      "0xdab3b5db47bc3720,\n",
      "0x6303cbb620293bf6,\n",
      "0xd93c6dabba8ba44f,\n",
      "0x4800013b93e07009\n"
     ]
    }
   ],
   "source": [
    "from textwrap import wrap\n",
    "print(str(',\\n').join(list(map(lambda x: '0x' + x[::-1], wrap(hex((q + 1 - t) // r)[2:][::-1], 16)))))"
   ]
  },
  {
   "cell_type": "code",
   "execution_count": 24,
   "id": "feb7cf3f",
   "metadata": {},
   "outputs": [
    {
     "data": {
      "text/plain": [
       "54736692702506479266359545630135535008734683389654089840601071154286118289550"
      ]
     },
     "execution_count": 24,
     "metadata": {},
     "output_type": "execute_result"
    }
   ],
   "source": [
    "pow((q + 1 - t) // r, -1, r)"
   ]
  },
  {
   "cell_type": "code",
   "execution_count": 28,
   "id": "aae2f8bf",
   "metadata": {},
   "outputs": [
    {
     "data": {
      "text/plain": [
       "9980063903480773747485374411020714173816276815606417861225439654554390745719005727274055955009294624578956029865160575967717579468338487582878433342359310352690204717350854"
      ]
     },
     "execution_count": 28,
     "metadata": {},
     "output_type": "execute_result"
    }
   ],
   "source": [
    "# find a point\n",
    "x_test = 4\n",
    "res_test = pow(x_test, 3) + coeff_b\n",
    "\n",
    "Mod(res_test, q).sqrt()"
   ]
  },
  {
   "cell_type": "code",
   "execution_count": 29,
   "id": "6a002ae5",
   "metadata": {},
   "outputs": [],
   "source": [
    "P = E(4, Mod(res_test, q).sqrt())"
   ]
  },
  {
   "cell_type": "code",
   "execution_count": 30,
   "id": "ea9a4d90",
   "metadata": {},
   "outputs": [
    {
     "data": {
      "text/plain": [
       "(21041479060334059994917916352561995599681496683378184338495044148554334865922285043275465528741964306980383475001455404610600675285973607295911295491046433550562665948850109 : 1841897213774345215194080213544536275781413636928742996668240879239998760310806751411541978966337027054045888026250482482159097701195947482630556667627310741134774424209442 : 1)"
      ]
     },
     "execution_count": 30,
     "metadata": {},
     "output_type": "execute_result"
    }
   ],
   "source": [
    "P2 = P * ((q + 1 - t) // r)\n",
    "P2"
   ]
  },
  {
   "cell_type": "code",
   "execution_count": 31,
   "id": "3499c817",
   "metadata": {},
   "outputs": [
    {
     "data": {
      "text/plain": [
       "(0 : 1 : 0)"
      ]
     },
     "execution_count": 31,
     "metadata": {},
     "output_type": "execute_result"
    }
   ],
   "source": [
    "P2 * r"
   ]
  },
  {
   "cell_type": "code",
   "execution_count": null,
   "id": "d9617d2d",
   "metadata": {},
   "outputs": [],
   "source": []
  }
 ],
 "metadata": {
  "kernelspec": {
   "display_name": "SageMath 9.2",
   "language": "sage",
   "name": "sagemath"
  },
  "language_info": {
   "codemirror_mode": {
    "name": "ipython",
    "version": 3
   },
   "file_extension": ".py",
   "mimetype": "text/x-python",
   "name": "python",
   "nbconvert_exporter": "python",
   "pygments_lexer": "ipython3",
   "version": "3.9.7"
  }
 },
 "nbformat": 4,
 "nbformat_minor": 5
}
