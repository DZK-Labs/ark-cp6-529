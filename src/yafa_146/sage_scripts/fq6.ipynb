{
 "cells": [
  {
   "cell_type": "code",
   "execution_count": 36,
   "id": "385a8d04",
   "metadata": {},
   "outputs": [],
   "source": [
    "q = 34780846793597649115902360759330114765953831037762036596538890219938834838634659810167270279641323601509886108333904651602464968545001642013075102043510458751533543897428201"
   ]
  },
  {
   "cell_type": "code",
   "execution_count": 37,
   "id": "61a8fda4",
   "metadata": {},
   "outputs": [],
   "source": [
    "F = GF(q)"
   ]
  },
  {
   "cell_type": "code",
   "execution_count": 38,
   "id": "0eda5e9e",
   "metadata": {},
   "outputs": [],
   "source": [
    "K2.<x> = PolynomialRing(F)"
   ]
  },
  {
   "cell_type": "code",
   "execution_count": 39,
   "id": "d7fc44b8",
   "metadata": {},
   "outputs": [],
   "source": [
    "K.<a> = GF(q**2, name='a', modulus=x ^ 2 - 17)"
   ]
  },
  {
   "cell_type": "code",
   "execution_count": 40,
   "id": "723d8700",
   "metadata": {},
   "outputs": [],
   "source": [
    "F2.<u> = F.extension(x ^ 2 - 17)"
   ]
  },
  {
   "cell_type": "code",
   "execution_count": 41,
   "id": "f96a66ec",
   "metadata": {},
   "outputs": [],
   "source": [
    "K6.<y> = PolynomialRing(F2)"
   ]
  },
  {
   "cell_type": "code",
   "execution_count": 140,
   "id": "94a1711a",
   "metadata": {},
   "outputs": [],
   "source": [
    "nqr = 7 * u"
   ]
  },
  {
   "cell_type": "code",
   "execution_count": 141,
   "id": "aa154cee",
   "metadata": {},
   "outputs": [],
   "source": [
    "F6.<v> = F2.extension(y ^ 3 - (7 * u))"
   ]
  },
  {
   "cell_type": "code",
   "execution_count": 142,
   "id": "8e7ea1ff",
   "metadata": {},
   "outputs": [
    {
     "data": {
      "text/plain": [
       "1"
      ]
     },
     "execution_count": 142,
     "metadata": {},
     "output_type": "execute_result"
    }
   ],
   "source": [
    "pow(nqr, (1 - 1) / 3, q)"
   ]
  },
  {
   "cell_type": "code",
   "execution_count": 143,
   "id": "9018b414",
   "metadata": {},
   "outputs": [
    {
     "data": {
      "text/plain": [
       "22684684505229882416948285270218997440839683235327132785256469607245693680604029123404282437563474551944295516999841064542480240558845597162904726440521080541363789749413060"
      ]
     },
     "execution_count": 143,
     "metadata": {},
     "output_type": "execute_result"
    }
   ],
   "source": [
    "pow(nqr, (q - 1) / 3, q)"
   ]
  },
  {
   "cell_type": "code",
   "execution_count": 144,
   "id": "24181e6d",
   "metadata": {},
   "outputs": [
    {
     "data": {
      "text/plain": [
       "22684684505229882416948285270218997440839683235327132785256469607245693680604029123404282437563474551944295516999841064542480240558845597162904726440521080541363789749413059"
      ]
     },
     "execution_count": 144,
     "metadata": {},
     "output_type": "execute_result"
    }
   ],
   "source": [
    "pow(nqr, (q^2 - 1) / 3, q)"
   ]
  },
  {
   "cell_type": "code",
   "execution_count": 145,
   "id": "6d1f82b4",
   "metadata": {},
   "outputs": [
    {
     "data": {
      "text/plain": [
       "34780846793597649115902360759330114765953831037762036596538890219938834838634659810167270279641323601509886108333904651602464968545001642013075102043510458751533543897428200"
      ]
     },
     "execution_count": 145,
     "metadata": {},
     "output_type": "execute_result"
    }
   ],
   "source": [
    "pow(nqr, (q^3 - 1) / 3, q)"
   ]
  },
  {
   "cell_type": "code",
   "execution_count": 146,
   "id": "bddc7aab",
   "metadata": {},
   "outputs": [
    {
     "data": {
      "text/plain": [
       "12096162288367766698954075489111117325114147802434903811282420612693141158030630686762987842077849049565590591334063587059984727986156044850170375602989378210169754148015141"
      ]
     },
     "execution_count": 146,
     "metadata": {},
     "output_type": "execute_result"
    }
   ],
   "source": [
    "pow(nqr, (q^4 - 1) / 3, q)"
   ]
  },
  {
   "cell_type": "code",
   "execution_count": 147,
   "id": "089edfeb",
   "metadata": {},
   "outputs": [
    {
     "data": {
      "text/plain": [
       "12096162288367766698954075489111117325114147802434903811282420612693141158030630686762987842077849049565590591334063587059984727986156044850170375602989378210169754148015142"
      ]
     },
     "execution_count": 147,
     "metadata": {},
     "output_type": "execute_result"
    }
   ],
   "source": [
    "pow(nqr, (q^5 - 1) / 3, q)"
   ]
  },
  {
   "cell_type": "code",
   "execution_count": 148,
   "id": "2daecd2b",
   "metadata": {},
   "outputs": [
    {
     "data": {
      "text/plain": [
       "1"
      ]
     },
     "execution_count": 148,
     "metadata": {},
     "output_type": "execute_result"
    }
   ],
   "source": [
    "pow(nqr, 2 * (1 - 1) / 3, q)"
   ]
  },
  {
   "cell_type": "code",
   "execution_count": 149,
   "id": "d3375854",
   "metadata": {},
   "outputs": [
    {
     "data": {
      "text/plain": [
       "22684684505229882416948285270218997440839683235327132785256469607245693680604029123404282437563474551944295516999841064542480240558845597162904726440521080541363789749413059"
      ]
     },
     "execution_count": 149,
     "metadata": {},
     "output_type": "execute_result"
    }
   ],
   "source": [
    "pow(nqr, 2 * (q - 1) / 3, q)"
   ]
  },
  {
   "cell_type": "code",
   "execution_count": 150,
   "id": "73a6acc0",
   "metadata": {},
   "outputs": [
    {
     "data": {
      "text/plain": [
       "12096162288367766698954075489111117325114147802434903811282420612693141158030630686762987842077849049565590591334063587059984727986156044850170375602989378210169754148015141"
      ]
     },
     "execution_count": 150,
     "metadata": {},
     "output_type": "execute_result"
    }
   ],
   "source": [
    "pow(nqr, 2 * (q^2 - 1) / 3, q)"
   ]
  },
  {
   "cell_type": "code",
   "execution_count": 151,
   "id": "9605a2e6",
   "metadata": {},
   "outputs": [
    {
     "data": {
      "text/plain": [
       "1"
      ]
     },
     "execution_count": 151,
     "metadata": {},
     "output_type": "execute_result"
    }
   ],
   "source": [
    "pow(nqr, 2 * (q^3 - 1) / 3, q)"
   ]
  },
  {
   "cell_type": "code",
   "execution_count": 152,
   "id": "88b700aa",
   "metadata": {},
   "outputs": [
    {
     "data": {
      "text/plain": [
       "22684684505229882416948285270218997440839683235327132785256469607245693680604029123404282437563474551944295516999841064542480240558845597162904726440521080541363789749413059"
      ]
     },
     "execution_count": 152,
     "metadata": {},
     "output_type": "execute_result"
    }
   ],
   "source": [
    "pow(nqr, 2 * (q^4 - 1) / 3, q)"
   ]
  },
  {
   "cell_type": "code",
   "execution_count": 153,
   "id": "6d48eac1",
   "metadata": {},
   "outputs": [
    {
     "data": {
      "text/plain": [
       "12096162288367766698954075489111117325114147802434903811282420612693141158030630686762987842077849049565590591334063587059984727986156044850170375602989378210169754148015141"
      ]
     },
     "execution_count": 153,
     "metadata": {},
     "output_type": "execute_result"
    }
   ],
   "source": [
    "pow(nqr, 2 * (q^5 - 1) / 3, q)"
   ]
  },
  {
   "cell_type": "code",
   "execution_count": null,
   "id": "d08bb7f4",
   "metadata": {},
   "outputs": [],
   "source": []
  },
  {
   "cell_type": "code",
   "execution_count": null,
   "id": "ae0f96a7",
   "metadata": {},
   "outputs": [],
   "source": []
  }
 ],
 "metadata": {
  "kernelspec": {
   "display_name": "SageMath 9.2",
   "language": "sage",
   "name": "sagemath"
  },
  "language_info": {
   "codemirror_mode": {
    "name": "ipython",
    "version": 3
   },
   "file_extension": ".py",
   "mimetype": "text/x-python",
   "name": "python",
   "nbconvert_exporter": "python",
   "pygments_lexer": "ipython3",
   "version": "3.9.7"
  }
 },
 "nbformat": 4,
 "nbformat_minor": 5
}
