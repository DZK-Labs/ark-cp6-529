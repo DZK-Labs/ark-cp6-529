{
 "cells": [
  {
   "cell_type": "code",
   "execution_count": 1,
   "id": "385a8d04",
   "metadata": {},
   "outputs": [],
   "source": [
    "q = 34780846793597649115902360759330114765953831037762036596538890219938834838634659810167270279641323601509886108333904651602464968545001642013075102043510458751533543897428201"
   ]
  },
  {
   "cell_type": "code",
   "execution_count": 2,
   "id": "61a8fda4",
   "metadata": {},
   "outputs": [],
   "source": [
    "F = GF(q)"
   ]
  },
  {
   "cell_type": "code",
   "execution_count": 3,
   "id": "0eda5e9e",
   "metadata": {},
   "outputs": [],
   "source": [
    "K2.<x> = PolynomialRing(F)"
   ]
  },
  {
   "cell_type": "code",
   "execution_count": 4,
   "id": "d7fc44b8",
   "metadata": {},
   "outputs": [],
   "source": [
    "K.<a> = GF(q**2, name='a', modulus=x ^ 2 - 59)"
   ]
  },
  {
   "cell_type": "code",
   "execution_count": 5,
   "id": "723d8700",
   "metadata": {},
   "outputs": [],
   "source": [
    "F2.<u> = F.extension(x ^ 2 - 59)"
   ]
  },
  {
   "cell_type": "code",
   "execution_count": 6,
   "id": "f96a66ec",
   "metadata": {},
   "outputs": [],
   "source": [
    "K6.<y> = PolynomialRing(F2)"
   ]
  },
  {
   "cell_type": "code",
   "execution_count": 7,
   "id": "aa154cee",
   "metadata": {},
   "outputs": [],
   "source": [
    "F6.<v> = F2.extension(y ^ 3 - u)"
   ]
  },
  {
   "cell_type": "code",
   "execution_count": 27,
   "id": "8e7ea1ff",
   "metadata": {},
   "outputs": [
    {
     "data": {
      "text/plain": [
       "1"
      ]
     },
     "execution_count": 27,
     "metadata": {},
     "output_type": "execute_result"
    }
   ],
   "source": [
    "pow(u, (1 - 1) / 3, q)"
   ]
  },
  {
   "cell_type": "code",
   "execution_count": 28,
   "id": "9018b414",
   "metadata": {},
   "outputs": [
    {
     "data": {
      "text/plain": [
       "22684684505229882416948285270218997440839683235327132785256469607245693680604029123404282437563474551944295516999841064542480240558845597162904726440521080541363789749413060"
      ]
     },
     "execution_count": 28,
     "metadata": {},
     "output_type": "execute_result"
    }
   ],
   "source": [
    "pow(u, (q - 1) / 3, q)"
   ]
  },
  {
   "cell_type": "code",
   "execution_count": 29,
   "id": "24181e6d",
   "metadata": {},
   "outputs": [
    {
     "data": {
      "text/plain": [
       "22684684505229882416948285270218997440839683235327132785256469607245693680604029123404282437563474551944295516999841064542480240558845597162904726440521080541363789749413059"
      ]
     },
     "execution_count": 29,
     "metadata": {},
     "output_type": "execute_result"
    }
   ],
   "source": [
    "pow(u, (q^2 - 1) / 3, q)"
   ]
  },
  {
   "cell_type": "code",
   "execution_count": 30,
   "id": "6d1f82b4",
   "metadata": {},
   "outputs": [
    {
     "data": {
      "text/plain": [
       "34780846793597649115902360759330114765953831037762036596538890219938834838634659810167270279641323601509886108333904651602464968545001642013075102043510458751533543897428200"
      ]
     },
     "execution_count": 30,
     "metadata": {},
     "output_type": "execute_result"
    }
   ],
   "source": [
    "pow(u, (q^3 - 1) / 3, q)"
   ]
  },
  {
   "cell_type": "code",
   "execution_count": 34,
   "id": "bddc7aab",
   "metadata": {},
   "outputs": [
    {
     "data": {
      "text/plain": [
       "12096162288367766698954075489111117325114147802434903811282420612693141158030630686762987842077849049565590591334063587059984727986156044850170375602989378210169754148015141"
      ]
     },
     "execution_count": 34,
     "metadata": {},
     "output_type": "execute_result"
    }
   ],
   "source": [
    "pow(u, (q^4 - 1) / 3, q)"
   ]
  },
  {
   "cell_type": "code",
   "execution_count": 35,
   "id": "089edfeb",
   "metadata": {},
   "outputs": [
    {
     "data": {
      "text/plain": [
       "12096162288367766698954075489111117325114147802434903811282420612693141158030630686762987842077849049565590591334063587059984727986156044850170375602989378210169754148015142"
      ]
     },
     "execution_count": 35,
     "metadata": {},
     "output_type": "execute_result"
    }
   ],
   "source": [
    "pow(u, (q^5 - 1) / 3, q)"
   ]
  },
  {
   "cell_type": "code",
   "execution_count": 36,
   "id": "2daecd2b",
   "metadata": {},
   "outputs": [
    {
     "data": {
      "text/plain": [
       "1"
      ]
     },
     "execution_count": 36,
     "metadata": {},
     "output_type": "execute_result"
    }
   ],
   "source": [
    "pow(u, 2 * (1 - 1) / 3, q)"
   ]
  },
  {
   "cell_type": "code",
   "execution_count": 37,
   "id": "d3375854",
   "metadata": {},
   "outputs": [
    {
     "data": {
      "text/plain": [
       "22684684505229882416948285270218997440839683235327132785256469607245693680604029123404282437563474551944295516999841064542480240558845597162904726440521080541363789749413059"
      ]
     },
     "execution_count": 37,
     "metadata": {},
     "output_type": "execute_result"
    }
   ],
   "source": [
    "pow(u, 2 * (q - 1) / 3, q)"
   ]
  },
  {
   "cell_type": "code",
   "execution_count": 38,
   "id": "73a6acc0",
   "metadata": {},
   "outputs": [
    {
     "data": {
      "text/plain": [
       "12096162288367766698954075489111117325114147802434903811282420612693141158030630686762987842077849049565590591334063587059984727986156044850170375602989378210169754148015141"
      ]
     },
     "execution_count": 38,
     "metadata": {},
     "output_type": "execute_result"
    }
   ],
   "source": [
    "pow(u, 2 * (q^2 - 1) / 3, q)"
   ]
  },
  {
   "cell_type": "code",
   "execution_count": 39,
   "id": "9605a2e6",
   "metadata": {},
   "outputs": [
    {
     "data": {
      "text/plain": [
       "1"
      ]
     },
     "execution_count": 39,
     "metadata": {},
     "output_type": "execute_result"
    }
   ],
   "source": [
    "pow(u, 2 * (q^3 - 1) / 3, q)"
   ]
  },
  {
   "cell_type": "code",
   "execution_count": 40,
   "id": "88b700aa",
   "metadata": {},
   "outputs": [
    {
     "data": {
      "text/plain": [
       "22684684505229882416948285270218997440839683235327132785256469607245693680604029123404282437563474551944295516999841064542480240558845597162904726440521080541363789749413059"
      ]
     },
     "execution_count": 40,
     "metadata": {},
     "output_type": "execute_result"
    }
   ],
   "source": [
    "pow(u, 2 * (q^4 - 1) / 3, q)"
   ]
  },
  {
   "cell_type": "code",
   "execution_count": 41,
   "id": "6d48eac1",
   "metadata": {},
   "outputs": [
    {
     "data": {
      "text/plain": [
       "12096162288367766698954075489111117325114147802434903811282420612693141158030630686762987842077849049565590591334063587059984727986156044850170375602989378210169754148015141"
      ]
     },
     "execution_count": 41,
     "metadata": {},
     "output_type": "execute_result"
    }
   ],
   "source": [
    "pow(u, 2 * (q^5 - 1) / 3, q)"
   ]
  },
  {
   "cell_type": "code",
   "execution_count": null,
   "id": "d08bb7f4",
   "metadata": {},
   "outputs": [],
   "source": []
  }
 ],
 "metadata": {
  "kernelspec": {
   "display_name": "SageMath 9.2",
   "language": "sage",
   "name": "sagemath"
  },
  "language_info": {
   "codemirror_mode": {
    "name": "ipython",
    "version": 3
   },
   "file_extension": ".py",
   "mimetype": "text/x-python",
   "name": "python",
   "nbconvert_exporter": "python",
   "pygments_lexer": "ipython3",
   "version": "3.9.7"
  }
 },
 "nbformat": 4,
 "nbformat_minor": 5
}
