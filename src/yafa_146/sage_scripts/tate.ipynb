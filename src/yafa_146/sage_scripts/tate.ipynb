{
 "cells": [
  {
   "cell_type": "code",
   "execution_count": 1,
   "id": "64fc7f1b",
   "metadata": {},
   "outputs": [],
   "source": [
    "q = 34780846793597649115902360759330114765953831037762036596538890219938834838634659810167270279641323601509886108333904651602464968545001642013075102043510458751533543897428201\n",
    "t = 372992476029187189170462968044878524314803726725266721356058824603476064987295668589899\n",
    "r = 57896044618658097711785492504343953926634992332820282019728792003956564819949\n",
    "k = 12\n",
    "D = -3"
   ]
  },
  {
   "cell_type": "code",
   "execution_count": 2,
   "id": "ceda5649",
   "metadata": {},
   "outputs": [
    {
     "data": {
      "text/plain": [
       "57896044618658097711785492504343953926634992332820282019728792003956564819949"
      ]
     },
     "execution_count": 2,
     "metadata": {},
     "output_type": "execute_result"
    }
   ],
   "source": [
    "r"
   ]
  },
  {
   "cell_type": "code",
   "execution_count": 3,
   "id": "24c7e7d7",
   "metadata": {},
   "outputs": [
    {
     "name": "stdout",
     "output_type": "stream",
     "text": [
      "0xffffffffffffffed,\n",
      "0xffffffffffffffff,\n",
      "0xffffffffffffffff,\n",
      "0x7fffffffffffffff\n"
     ]
    }
   ],
   "source": [
    "from textwrap import wrap\n",
    "print(str(',\\n').join(list(map(lambda x: '0x' + x[::-1], wrap(hex(r)[2:][::-1], 16)))))"
   ]
  },
  {
   "cell_type": "code",
   "execution_count": 4,
   "id": "a5741bdf",
   "metadata": {},
   "outputs": [
    {
     "data": {
      "text/plain": [
       "25276195812942166055922231212136476863901351197677258772427399612282303171887032237001829974272734905988776958658806175660816846357750475891427970776634211292083047786538988435749476578423773586630761034261661500498179657530416968878506014869682416073883215872664336547564272407943800458458785729580213989671558395089753589146406449059960285709559573774945665603629491065162611590091599392156789647636709173221965834529009817033337199485401459824107842768318712741576049172886783604177086946147122916454189269995276957351674056867642291774644662430593884228652687095813608785173938799393496261047659228881569316149"
      ]
     },
     "execution_count": 4,
     "metadata": {},
     "output_type": "execute_result"
    }
   ],
   "source": [
    "remaining = (q ^ 12 - 1) // (q ^ 6 - 1) // (q ^ 2 + 1) // r\n",
    "remaining"
   ]
  },
  {
   "cell_type": "code",
   "execution_count": 5,
   "id": "9a6ca5fe",
   "metadata": {},
   "outputs": [
    {
     "data": {
      "text/plain": [
       "27816679719392039590916985961594891329592754889347470862124370788722235197910030055580499179007884620636974433034081916025003956486380300643703133308392747535275498881809581"
      ]
     },
     "execution_count": 5,
     "metadata": {},
     "output_type": "execute_result"
    }
   ],
   "source": [
    "w0 = remaining % q\n",
    "w0"
   ]
  },
  {
   "cell_type": "code",
   "execution_count": 6,
   "id": "36b3c2dc",
   "metadata": {},
   "outputs": [
    {
     "data": {
      "text/plain": [
       "19533734280962826151300710596734343137033362535294523292134692601750277351215937028705950010165895260665221949740604041087518331761534784981220098087966726908412430392012572"
      ]
     },
     "execution_count": 6,
     "metadata": {},
     "output_type": "execute_result"
    }
   ],
   "source": [
    "w1 = (remaining - w0) // q % q\n",
    "w1"
   ]
  },
  {
   "cell_type": "code",
   "execution_count": 7,
   "id": "2a46e73f",
   "metadata": {},
   "outputs": [
    {
     "data": {
      "text/plain": [
       "18787556099692390437676225874885260726423443207869755270416397806622396448189003069574413752571064036218150696957580977806429906239508024997419791567936987076281415850010664"
      ]
     },
     "execution_count": 7,
     "metadata": {},
     "output_type": "execute_result"
    }
   ],
   "source": [
    "w2 = (remaining - w0 - w1 * q) // q^2 % q\n",
    "w2"
   ]
  },
  {
   "cell_type": "code",
   "execution_count": 8,
   "id": "3060af08",
   "metadata": {},
   "outputs": [
    {
     "data": {
      "text/plain": [
       "600746510796850913325441891520214792552399427644760978176030334322268158184417708567430611936132"
      ]
     },
     "execution_count": 8,
     "metadata": {},
     "output_type": "execute_result"
    }
   ],
   "source": [
    "w3 = (remaining - w0 - w1 * q - w2 * q^2) // q^3 % q\n",
    "w3"
   ]
  },
  {
   "cell_type": "code",
   "execution_count": 9,
   "id": "de1d48d6",
   "metadata": {
    "scrolled": false
   },
   "outputs": [
    {
     "name": "stdout",
     "output_type": "stream",
     "text": [
      "0xbc41361f419dfcad,\n",
      "0x7e898c59e9f6e67a,\n",
      "0xa53054d2e155420a,\n",
      "0xf01d5c325a7e8db9,\n",
      "0x0062cc2d9828db4b,\n",
      "0xa9ab464e0f3efb97,\n",
      "0x4498a2a9fcde4960,\n",
      "0xf05a7a282a9da654,\n",
      "0x1ccaaec847ce3756\n"
     ]
    }
   ],
   "source": [
    "from textwrap import wrap\n",
    "print(str(',\\n').join(list(map(lambda x: '0x' + x[::-1], wrap(hex(w0)[2:][::-1], 16)))))"
   ]
  },
  {
   "cell_type": "code",
   "execution_count": 10,
   "id": "b2b8c088",
   "metadata": {},
   "outputs": [
    {
     "name": "stdout",
     "output_type": "stream",
     "text": [
      "0x4a8171212b68af1c,\n",
      "0x6e9fd1b1cd44b35d,\n",
      "0x10677198e7742d97,\n",
      "0x13b522f9221f979a,\n",
      "0xa9d14c2dbb4cf3db,\n",
      "0xaed043007079fa1e,\n",
      "0x7b9bdbddd59fe860,\n",
      "0x0ee6a96afcb80cfc,\n",
      "0x1437ebf93e40e187\n"
     ]
    }
   ],
   "source": [
    "from textwrap import wrap\n",
    "print(str(',\\n').join(list(map(lambda x: '0x' + x[::-1], wrap(hex(w1)[2:][::-1], 16)))))"
   ]
  },
  {
   "cell_type": "code",
   "execution_count": 11,
   "id": "aecca3d7",
   "metadata": {},
   "outputs": [
    {
     "name": "stdout",
     "output_type": "stream",
     "text": [
      "0x3e418200ad402828,\n",
      "0xeaac6e307c80e9ac,\n",
      "0x993fbe8fefb574c8,\n",
      "0x7e876f3ddda8ba7a,\n",
      "0xf8ff3fbf0bb49620,\n",
      "0x63883dfe09f064b0,\n",
      "0x8fd38d1af07c11e5,\n",
      "0xee91cf069f66a1eb,\n",
      "0x1372344f3c10e50b\n"
     ]
    }
   ],
   "source": [
    "from textwrap import wrap\n",
    "print(str(',\\n').join(list(map(lambda x: '0x' + x[::-1], wrap(hex(w2)[2:][::-1], 16)))))"
   ]
  },
  {
   "cell_type": "code",
   "execution_count": 12,
   "id": "fe26ae6d",
   "metadata": {},
   "outputs": [
    {
     "name": "stdout",
     "output_type": "stream",
     "text": [
      "0xba0cbd2b5bed2384,\n",
      "0xdab3b5db47bc3720,\n",
      "0x6303cbb620293bf6,\n",
      "0xd93c6dabba8ba44f,\n",
      "0x4800013b93e07009\n"
     ]
    }
   ],
   "source": [
    "from textwrap import wrap\n",
    "print(str(',\\n').join(list(map(lambda x: '0x' + x[::-1], wrap(hex(w3)[2:][::-1], 16)))))"
   ]
  },
  {
   "cell_type": "code",
   "execution_count": null,
   "id": "0611a6a5",
   "metadata": {},
   "outputs": [],
   "source": []
  }
 ],
 "metadata": {
  "kernelspec": {
   "display_name": "SageMath 9.2",
   "language": "sage",
   "name": "sagemath"
  },
  "language_info": {
   "codemirror_mode": {
    "name": "ipython",
    "version": 3
   },
   "file_extension": ".py",
   "mimetype": "text/x-python",
   "name": "python",
   "nbconvert_exporter": "python",
   "pygments_lexer": "ipython3",
   "version": "3.9.7"
  }
 },
 "nbformat": 4,
 "nbformat_minor": 5
}
