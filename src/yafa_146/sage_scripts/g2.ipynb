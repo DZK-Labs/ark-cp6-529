{
 "cells": [
  {
   "cell_type": "code",
   "execution_count": 1,
   "id": "2cdbce17",
   "metadata": {},
   "outputs": [],
   "source": [
    "q = 34780846793597649115902360759330114765953831037762036596538890219938834838634659810167270279641323601509886108333904651602464968545001642013075102043510458751533543897428201\n",
    "t = 372992476029187189170462968044878524314803726725266721356058824603476064987295668589899\n",
    "r = 57896044618658097711785492504343953926634992332820282019728792003956564819949\n",
    "k = 12\n",
    "D = -3"
   ]
  },
  {
   "cell_type": "code",
   "execution_count": 2,
   "id": "cc24e18e",
   "metadata": {},
   "outputs": [],
   "source": [
    "coeff_b = 33355508094144"
   ]
  },
  {
   "cell_type": "code",
   "execution_count": 3,
   "id": "5c449ee6",
   "metadata": {},
   "outputs": [],
   "source": [
    "F = GF(q)\n",
    "K2.<x> = PolynomialRing(F)\n",
    "K.<a> = GF(q**2, name='a', modulus=x ^ 2 - 17)\n",
    "F2.<u> = F.extension(x ^ 2 - 17)"
   ]
  },
  {
   "cell_type": "code",
   "execution_count": 4,
   "id": "a1386103",
   "metadata": {
    "scrolled": true
   },
   "outputs": [
    {
     "data": {
      "text/plain": [
       "False"
      ]
     },
     "execution_count": 4,
     "metadata": {},
     "output_type": "execute_result"
    }
   ],
   "source": [
    "(7 * u).is_square()"
   ]
  },
  {
   "cell_type": "code",
   "execution_count": 5,
   "id": "d66074d8",
   "metadata": {},
   "outputs": [
    {
     "ename": "ValueError",
     "evalue": "no nth root",
     "output_type": "error",
     "traceback": [
      "\u001b[0;31m---------------------------------------------------------------------------\u001b[0m",
      "\u001b[0;31mValueError\u001b[0m                                Traceback (most recent call last)",
      "\u001b[0;32m<ipython-input-5-bbc89854e611>\u001b[0m in \u001b[0;36m<module>\u001b[0;34m\u001b[0m\n\u001b[0;32m----> 1\u001b[0;31m \u001b[0;34m(\u001b[0m\u001b[0mInteger\u001b[0m\u001b[0;34m(\u001b[0m\u001b[0;36m7\u001b[0m\u001b[0;34m)\u001b[0m \u001b[0;34m*\u001b[0m \u001b[0mu\u001b[0m\u001b[0;34m)\u001b[0m\u001b[0;34m.\u001b[0m\u001b[0mnth_root\u001b[0m\u001b[0;34m(\u001b[0m\u001b[0mInteger\u001b[0m\u001b[0;34m(\u001b[0m\u001b[0;36m3\u001b[0m\u001b[0;34m)\u001b[0m\u001b[0;34m)\u001b[0m\u001b[0;34m\u001b[0m\u001b[0;34m\u001b[0m\u001b[0m\n\u001b[0m",
      "\u001b[0;32m~/opt/anaconda3/envs/sage/lib/python3.9/site-packages/sage/rings/finite_rings/element_base.pyx\u001b[0m in \u001b[0;36msage.rings.finite_rings.element_base.FinitePolyExtElement.nth_root (build/cythonized/sage/rings/finite_rings/element_base.c:9726)\u001b[0;34m()\u001b[0m\n\u001b[1;32m    744\u001b[0m         \u001b[0;32mfrom\u001b[0m \u001b[0msage\u001b[0m\u001b[0;34m.\u001b[0m\u001b[0mrings\u001b[0m\u001b[0;34m.\u001b[0m\u001b[0minteger\u001b[0m \u001b[0;32mimport\u001b[0m \u001b[0mInteger\u001b[0m\u001b[0;34m\u001b[0m\u001b[0;34m\u001b[0m\u001b[0m\n\u001b[1;32m    745\u001b[0m         \u001b[0mn\u001b[0m \u001b[0;34m=\u001b[0m \u001b[0mInteger\u001b[0m\u001b[0;34m(\u001b[0m\u001b[0mn\u001b[0m\u001b[0;34m)\u001b[0m\u001b[0;34m\u001b[0m\u001b[0;34m\u001b[0m\u001b[0m\n\u001b[0;32m--> 746\u001b[0;31m         \u001b[0;32mreturn\u001b[0m \u001b[0mself\u001b[0m\u001b[0;34m.\u001b[0m\u001b[0m_nth_root_common\u001b[0m\u001b[0;34m(\u001b[0m\u001b[0mn\u001b[0m\u001b[0;34m,\u001b[0m \u001b[0mall\u001b[0m\u001b[0;34m,\u001b[0m \u001b[0malgorithm\u001b[0m\u001b[0;34m,\u001b[0m \u001b[0mcunningham\u001b[0m\u001b[0;34m)\u001b[0m\u001b[0;34m\u001b[0m\u001b[0;34m\u001b[0m\u001b[0m\n\u001b[0m\u001b[1;32m    747\u001b[0m \u001b[0;34m\u001b[0m\u001b[0m\n\u001b[1;32m    748\u001b[0m     \u001b[0;32mdef\u001b[0m \u001b[0mpth_power\u001b[0m\u001b[0;34m(\u001b[0m\u001b[0mself\u001b[0m\u001b[0;34m,\u001b[0m \u001b[0mint\u001b[0m \u001b[0mk\u001b[0m \u001b[0;34m=\u001b[0m \u001b[0;36m1\u001b[0m\u001b[0;34m)\u001b[0m\u001b[0;34m:\u001b[0m\u001b[0;34m\u001b[0m\u001b[0;34m\u001b[0m\u001b[0m\n",
      "\u001b[0;32m~/opt/anaconda3/envs/sage/lib/python3.9/site-packages/sage/rings/finite_rings/element_base.pyx\u001b[0m in \u001b[0;36msage.rings.finite_rings.element_base.FiniteRingElement._nth_root_common (build/cythonized/sage/rings/finite_rings/element_base.c:3505)\u001b[0;34m()\u001b[0m\n\u001b[1;32m     70\u001b[0m         \u001b[0;32mif\u001b[0m \u001b[0mself\u001b[0m\u001b[0;34m**\u001b[0m\u001b[0mq1overn\u001b[0m \u001b[0;34m!=\u001b[0m \u001b[0;36m1\u001b[0m\u001b[0;34m:\u001b[0m\u001b[0;34m\u001b[0m\u001b[0;34m\u001b[0m\u001b[0m\n\u001b[1;32m     71\u001b[0m             \u001b[0;32mif\u001b[0m \u001b[0mall\u001b[0m\u001b[0;34m:\u001b[0m \u001b[0;32mreturn\u001b[0m \u001b[0;34m[\u001b[0m\u001b[0;34m]\u001b[0m\u001b[0;34m\u001b[0m\u001b[0;34m\u001b[0m\u001b[0m\n\u001b[0;32m---> 72\u001b[0;31m             \u001b[0;32melse\u001b[0m\u001b[0;34m:\u001b[0m \u001b[0;32mraise\u001b[0m \u001b[0mValueError\u001b[0m\u001b[0;34m(\u001b[0m\u001b[0;34m\"no nth root\"\u001b[0m\u001b[0;34m)\u001b[0m\u001b[0;34m\u001b[0m\u001b[0;34m\u001b[0m\u001b[0m\n\u001b[0m\u001b[1;32m     73\u001b[0m         \u001b[0mself\u001b[0m \u001b[0;34m=\u001b[0m \u001b[0mself\u001b[0m\u001b[0;34m**\u001b[0m\u001b[0malpha\u001b[0m\u001b[0;34m\u001b[0m\u001b[0;34m\u001b[0m\u001b[0m\n\u001b[1;32m     74\u001b[0m         \u001b[0;32mif\u001b[0m \u001b[0mcunningham\u001b[0m\u001b[0;34m:\u001b[0m\u001b[0;34m\u001b[0m\u001b[0;34m\u001b[0m\u001b[0m\n",
      "\u001b[0;31mValueError\u001b[0m: no nth root"
     ]
    }
   ],
   "source": [
    "(7 * u).nth_root(3)"
   ]
  },
  {
   "cell_type": "code",
   "execution_count": 6,
   "id": "78c34412",
   "metadata": {},
   "outputs": [
    {
     "data": {
      "text/plain": [
       "13444697079878082851525282310329288060788875863336585575132680253085600021657095388804154898012612484617266899019828688854734357588824164139508022638667908424962826678905810*u"
      ]
     },
     "execution_count": 6,
     "metadata": {},
     "output_type": "execute_result"
    }
   ],
   "source": [
    "b = coeff_b / (7 * u)\n",
    "b"
   ]
  },
  {
   "cell_type": "code",
   "execution_count": 7,
   "id": "85be05e8",
   "metadata": {},
   "outputs": [],
   "source": [
    "E = EllipticCurve(F2, [0, 0, 0, 0, b])"
   ]
  },
  {
   "cell_type": "code",
   "execution_count": 8,
   "id": "0e37b138",
   "metadata": {},
   "outputs": [
    {
     "data": {
      "text/plain": [
       "1209707303679711869521701003500290607415757496777039484715548003544001706965971215131424169763761182688257007869933683834433162695487588616683753934940500658934695766135636093584442538458768188885893322533916087694369099461812754157851842595245602055746010217562347101137632689382898715418246998285567880568710254458669018456424437988969476952804"
      ]
     },
     "execution_count": 8,
     "metadata": {},
     "output_type": "execute_result"
    }
   ],
   "source": [
    "num_points = E.cardinality()\n",
    "num_points"
   ]
  },
  {
   "cell_type": "code",
   "execution_count": 10,
   "id": "8e6dfd8b",
   "metadata": {},
   "outputs": [
    {
     "data": {
      "text/plain": [
       "20894472353813627584293482548772171994435736321892493652156536764483249695448423605439551802991931976343692104147378449067499016714870159490307584066363261732930457034869106625232959381521895831602203960656224597442267949372368242654610238587983559434866653274386897396"
      ]
     },
     "execution_count": 10,
     "metadata": {},
     "output_type": "execute_result"
    }
   ],
   "source": [
    "cofactor = num_points // r\n",
    "cofactor"
   ]
  },
  {
   "cell_type": "code",
   "execution_count": 11,
   "id": "eee18670",
   "metadata": {},
   "outputs": [
    {
     "data": {
      "text/plain": [
       "26669383290998642101102919097965065378912568514631236417483115302343937624003669043720478686002860170717626750470453508845325171336223452312636312873587147148575715396"
      ]
     },
     "execution_count": 11,
     "metadata": {},
     "output_type": "execute_result"
    }
   ],
   "source": [
    "q^2 - q - num_points"
   ]
  },
  {
   "cell_type": "code",
   "execution_count": 12,
   "id": "1e17f9ef",
   "metadata": {
    "scrolled": true
   },
   "outputs": [
    {
     "name": "stdout",
     "output_type": "stream",
     "text": [
      "0x97eb95cb492a99f4,\n",
      "0xce1097b616174157,\n",
      "0x69ff3af87115ad37,\n",
      "0xaad0f9fa6c57adbb,\n",
      "0xe89b7dd49d7a672e,\n",
      "0x66d37be389df638a,\n",
      "0xf1d388886c9fcd6a,\n",
      "0x1e7cb685aa19089f,\n",
      "0x11c7fe3ecab2bfa4,\n",
      "0x28813796458eeeab,\n",
      "0x9a129319a58fe700,\n",
      "0x5f5465426db28467,\n",
      "0x64f89dae62b24f99,\n",
      "0xa200058c197e205\n"
     ]
    }
   ],
   "source": [
    "from textwrap import wrap\n",
    "print(str(',\\n').join(list(map(lambda x: '0x' + x[::-1], wrap(hex(cofactor)[2:][::-1], 16)))))"
   ]
  },
  {
   "cell_type": "code",
   "execution_count": 13,
   "id": "369d01e0",
   "metadata": {},
   "outputs": [
    {
     "data": {
      "text/plain": [
       "52342251624758656962424635542600246432390708264947618736639330869844643473789"
      ]
     },
     "execution_count": 13,
     "metadata": {},
     "output_type": "execute_result"
    }
   ],
   "source": [
    "cofactor_inv = pow(cofactor, -1, r)\n",
    "cofactor_inv"
   ]
  },
  {
   "cell_type": "code",
   "execution_count": 18,
   "id": "531aad46",
   "metadata": {},
   "outputs": [
    {
     "data": {
      "text/plain": [
       "True"
      ]
     },
     "execution_count": 18,
     "metadata": {},
     "output_type": "execute_result"
    }
   ],
   "source": [
    "x_test = u + 2\n",
    "res_test = pow(x_test, 3)  + b\n",
    "\n",
    "res_test.is_square()"
   ]
  },
  {
   "cell_type": "code",
   "execution_count": 19,
   "id": "95bc9ad2",
   "metadata": {},
   "outputs": [
    {
     "data": {
      "text/plain": [
       "2049697877580127990261540243713738322960146588487327066530498155383813603143017627267900388351074570070317756629579787595746279703222611145913061907093766175112489542886987*u + 29719394895172508108585191209165461584444602080227964196739819847427441708043532634528199894702629728475440851214105793689714831797463402970539225407932021570845701203976101"
      ]
     },
     "execution_count": 19,
     "metadata": {},
     "output_type": "execute_result"
    }
   ],
   "source": [
    "res_test.sqrt()"
   ]
  },
  {
   "cell_type": "code",
   "execution_count": 20,
   "id": "b28a59e5",
   "metadata": {},
   "outputs": [],
   "source": [
    "P = E(u+2, res_test.sqrt())"
   ]
  },
  {
   "cell_type": "code",
   "execution_count": 21,
   "id": "a1b339a0",
   "metadata": {},
   "outputs": [
    {
     "data": {
      "text/plain": [
       "(6509668557599053424440966680272497784911399803240497537635247349073107397086216316456727630561816809068690796961510649536234669285043779959696834452566361542235889236045835*u + 27687780088810264289159591770816833071169552188215392460611758005071642211394476977922701536763417051032625099426754802175165180375513026799513829826051305654731318363059026 : 5715272748203426721306351628887978855082089503127758604918975997787903383176613628075218213177699924085938313105400333095104664563435997596881857549150409526964137574350316*u + 11925399111216796518477138151691235568568510711494060650340017620067644939148939736783756764969805812223266676273642369280660308896058524826998685162758646355912991543336123 : 1)"
      ]
     },
     "execution_count": 21,
     "metadata": {},
     "output_type": "execute_result"
    }
   ],
   "source": [
    "P2 = P * cofactor\n",
    "P2"
   ]
  },
  {
   "cell_type": "code",
   "execution_count": 22,
   "id": "727c30f5",
   "metadata": {},
   "outputs": [
    {
     "data": {
      "text/plain": [
       "(0 : 1 : 0)"
      ]
     },
     "execution_count": 22,
     "metadata": {},
     "output_type": "execute_result"
    }
   ],
   "source": [
    "P2 * r"
   ]
  },
  {
   "cell_type": "code",
   "execution_count": null,
   "id": "37823b5f",
   "metadata": {},
   "outputs": [],
   "source": []
  }
 ],
 "metadata": {
  "kernelspec": {
   "display_name": "SageMath 9.2",
   "language": "sage",
   "name": "sagemath"
  },
  "language_info": {
   "codemirror_mode": {
    "name": "ipython",
    "version": 3
   },
   "file_extension": ".py",
   "mimetype": "text/x-python",
   "name": "python",
   "nbconvert_exporter": "python",
   "pygments_lexer": "ipython3",
   "version": "3.9.7"
  }
 },
 "nbformat": 4,
 "nbformat_minor": 5
}
