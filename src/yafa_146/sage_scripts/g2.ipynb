{
 "cells": [
  {
   "cell_type": "code",
   "execution_count": 67,
   "id": "2cdbce17",
   "metadata": {},
   "outputs": [],
   "source": [
    "q = 34780846793597649115902360759330114765953831037762036596538890219938834838634659810167270279641323601509886108333904651602464968545001642013075102043510458751533543897428201\n",
    "t = 372992476029187189170462968044878524314803726725266721356058824603476064987295668589899\n",
    "r = 57896044618658097711785492504343953926634992332820282019728792003956564819949\n",
    "k = 12\n",
    "D = -3"
   ]
  },
  {
   "cell_type": "code",
   "execution_count": 68,
   "id": "cc24e18e",
   "metadata": {},
   "outputs": [],
   "source": [
    "coeff_b = 33355508094144"
   ]
  },
  {
   "cell_type": "code",
   "execution_count": 69,
   "id": "5c449ee6",
   "metadata": {},
   "outputs": [],
   "source": [
    "F = GF(q)\n",
    "K2.<x> = PolynomialRing(F)\n",
    "K.<a> = GF(q**2, name='a', modulus=x ^ 2 - 59)\n",
    "F2.<u> = F.extension(x ^ 2 - 59)"
   ]
  },
  {
   "cell_type": "code",
   "execution_count": 77,
   "id": "a1386103",
   "metadata": {
    "scrolled": true
   },
   "outputs": [
    {
     "data": {
      "text/plain": [
       "False"
      ]
     },
     "execution_count": 77,
     "metadata": {},
     "output_type": "execute_result"
    }
   ],
   "source": [
    "u.is_square()"
   ]
  },
  {
   "cell_type": "code",
   "execution_count": 78,
   "id": "d66074d8",
   "metadata": {},
   "outputs": [
    {
     "ename": "ValueError",
     "evalue": "no nth root",
     "output_type": "error",
     "traceback": [
      "\u001b[0;31m---------------------------------------------------------------------------\u001b[0m",
      "\u001b[0;31mValueError\u001b[0m                                Traceback (most recent call last)",
      "\u001b[0;32m<ipython-input-78-b44a7c09f8ca>\u001b[0m in \u001b[0;36m<module>\u001b[0;34m\u001b[0m\n\u001b[0;32m----> 1\u001b[0;31m \u001b[0mu\u001b[0m\u001b[0;34m.\u001b[0m\u001b[0mnth_root\u001b[0m\u001b[0;34m(\u001b[0m\u001b[0mInteger\u001b[0m\u001b[0;34m(\u001b[0m\u001b[0;36m3\u001b[0m\u001b[0;34m)\u001b[0m\u001b[0;34m)\u001b[0m\u001b[0;34m\u001b[0m\u001b[0;34m\u001b[0m\u001b[0m\n\u001b[0m",
      "\u001b[0;32m~/opt/anaconda3/envs/sage/lib/python3.9/site-packages/sage/rings/finite_rings/element_base.pyx\u001b[0m in \u001b[0;36msage.rings.finite_rings.element_base.FinitePolyExtElement.nth_root (build/cythonized/sage/rings/finite_rings/element_base.c:9726)\u001b[0;34m()\u001b[0m\n\u001b[1;32m    744\u001b[0m         \u001b[0;32mfrom\u001b[0m \u001b[0msage\u001b[0m\u001b[0;34m.\u001b[0m\u001b[0mrings\u001b[0m\u001b[0;34m.\u001b[0m\u001b[0minteger\u001b[0m \u001b[0;32mimport\u001b[0m \u001b[0mInteger\u001b[0m\u001b[0;34m\u001b[0m\u001b[0;34m\u001b[0m\u001b[0m\n\u001b[1;32m    745\u001b[0m         \u001b[0mn\u001b[0m \u001b[0;34m=\u001b[0m \u001b[0mInteger\u001b[0m\u001b[0;34m(\u001b[0m\u001b[0mn\u001b[0m\u001b[0;34m)\u001b[0m\u001b[0;34m\u001b[0m\u001b[0;34m\u001b[0m\u001b[0m\n\u001b[0;32m--> 746\u001b[0;31m         \u001b[0;32mreturn\u001b[0m \u001b[0mself\u001b[0m\u001b[0;34m.\u001b[0m\u001b[0m_nth_root_common\u001b[0m\u001b[0;34m(\u001b[0m\u001b[0mn\u001b[0m\u001b[0;34m,\u001b[0m \u001b[0mall\u001b[0m\u001b[0;34m,\u001b[0m \u001b[0malgorithm\u001b[0m\u001b[0;34m,\u001b[0m \u001b[0mcunningham\u001b[0m\u001b[0;34m)\u001b[0m\u001b[0;34m\u001b[0m\u001b[0;34m\u001b[0m\u001b[0m\n\u001b[0m\u001b[1;32m    747\u001b[0m \u001b[0;34m\u001b[0m\u001b[0m\n\u001b[1;32m    748\u001b[0m     \u001b[0;32mdef\u001b[0m \u001b[0mpth_power\u001b[0m\u001b[0;34m(\u001b[0m\u001b[0mself\u001b[0m\u001b[0;34m,\u001b[0m \u001b[0mint\u001b[0m \u001b[0mk\u001b[0m \u001b[0;34m=\u001b[0m \u001b[0;36m1\u001b[0m\u001b[0;34m)\u001b[0m\u001b[0;34m:\u001b[0m\u001b[0;34m\u001b[0m\u001b[0;34m\u001b[0m\u001b[0m\n",
      "\u001b[0;32m~/opt/anaconda3/envs/sage/lib/python3.9/site-packages/sage/rings/finite_rings/element_base.pyx\u001b[0m in \u001b[0;36msage.rings.finite_rings.element_base.FiniteRingElement._nth_root_common (build/cythonized/sage/rings/finite_rings/element_base.c:3505)\u001b[0;34m()\u001b[0m\n\u001b[1;32m     70\u001b[0m         \u001b[0;32mif\u001b[0m \u001b[0mself\u001b[0m\u001b[0;34m**\u001b[0m\u001b[0mq1overn\u001b[0m \u001b[0;34m!=\u001b[0m \u001b[0;36m1\u001b[0m\u001b[0;34m:\u001b[0m\u001b[0;34m\u001b[0m\u001b[0;34m\u001b[0m\u001b[0m\n\u001b[1;32m     71\u001b[0m             \u001b[0;32mif\u001b[0m \u001b[0mall\u001b[0m\u001b[0;34m:\u001b[0m \u001b[0;32mreturn\u001b[0m \u001b[0;34m[\u001b[0m\u001b[0;34m]\u001b[0m\u001b[0;34m\u001b[0m\u001b[0;34m\u001b[0m\u001b[0m\n\u001b[0;32m---> 72\u001b[0;31m             \u001b[0;32melse\u001b[0m\u001b[0;34m:\u001b[0m \u001b[0;32mraise\u001b[0m \u001b[0mValueError\u001b[0m\u001b[0;34m(\u001b[0m\u001b[0;34m\"no nth root\"\u001b[0m\u001b[0;34m)\u001b[0m\u001b[0;34m\u001b[0m\u001b[0;34m\u001b[0m\u001b[0m\n\u001b[0m\u001b[1;32m     73\u001b[0m         \u001b[0mself\u001b[0m \u001b[0;34m=\u001b[0m \u001b[0mself\u001b[0m\u001b[0;34m**\u001b[0m\u001b[0malpha\u001b[0m\u001b[0;34m\u001b[0m\u001b[0;34m\u001b[0m\u001b[0m\n\u001b[1;32m     74\u001b[0m         \u001b[0;32mif\u001b[0m \u001b[0mcunningham\u001b[0m\u001b[0;34m:\u001b[0m\u001b[0;34m\u001b[0m\u001b[0;34m\u001b[0m\u001b[0m\n",
      "\u001b[0;31mValueError\u001b[0m: no nth root"
     ]
    }
   ],
   "source": [
    "u.nth_root(3)"
   ]
  },
  {
   "cell_type": "code",
   "execution_count": 70,
   "id": "78c34412",
   "metadata": {},
   "outputs": [
    {
     "data": {
      "text/plain": [
       "565347594816*u"
      ]
     },
     "execution_count": 70,
     "metadata": {},
     "output_type": "execute_result"
    }
   ],
   "source": [
    "b = coeff_b / u\n",
    "b"
   ]
  },
  {
   "cell_type": "code",
   "execution_count": 71,
   "id": "85be05e8",
   "metadata": {},
   "outputs": [],
   "source": [
    "E = EllipticCurve(F2, [0, 0, 0, 0, b])"
   ]
  },
  {
   "cell_type": "code",
   "execution_count": 73,
   "id": "0e37b138",
   "metadata": {},
   "outputs": [
    {
     "data": {
      "text/plain": [
       "1209707303679711869521701003500290607415757496777039484715548003544001706965971215131424169763761182688257007869933683834433162695487588616683753934940500658934695766135636093584442538458768188885893322533916087694369099461812754157851842595245602055746010217562347101137632689382898715418246998285567880568710254458669018456424437988969476952804"
      ]
     },
     "execution_count": 73,
     "metadata": {},
     "output_type": "execute_result"
    }
   ],
   "source": [
    "num_points = E.cardinality()\n",
    "num_points"
   ]
  },
  {
   "cell_type": "code",
   "execution_count": 76,
   "id": "8e6dfd8b",
   "metadata": {},
   "outputs": [
    {
     "data": {
      "text/plain": [
       "20894472353813627584293482548772171994435736321892493652156536764483249695448423605439551802991931976343692104147378449067499016714870159490307584066363261732930457034869106625232959381521895831602203960656224597442267949372368242654610238587983559434866653274386897396"
      ]
     },
     "execution_count": 76,
     "metadata": {},
     "output_type": "execute_result"
    }
   ],
   "source": [
    "cofactor = num_points // r\n",
    "cofactor"
   ]
  },
  {
   "cell_type": "code",
   "execution_count": 55,
   "id": "1e17f9ef",
   "metadata": {
    "scrolled": true
   },
   "outputs": [
    {
     "name": "stdout",
     "output_type": "stream",
     "text": [
      "0x97eb95cb492a99f4,\n",
      "0xce1097b616174157,\n",
      "0x69ff3af87115ad37,\n",
      "0xaad0f9fa6c57adbb,\n",
      "0xe89b7dd49d7a672e,\n",
      "0x66d37be389df638a,\n",
      "0xf1d388886c9fcd6a,\n",
      "0x1e7cb685aa19089f,\n",
      "0x11c7fe3ecab2bfa4,\n",
      "0x28813796458eeeab,\n",
      "0x9a129319a58fe700,\n",
      "0x5f5465426db28467,\n",
      "0x64f89dae62b24f99,\n",
      "0xa200058c197e205\n"
     ]
    }
   ],
   "source": [
    "from textwrap import wrap\n",
    "print(str(',\\n').join(list(map(lambda x: '0x' + x[::-1], wrap(hex(cofactor)[2:][::-1], 16)))))"
   ]
  },
  {
   "cell_type": "code",
   "execution_count": 56,
   "id": "369d01e0",
   "metadata": {},
   "outputs": [
    {
     "data": {
      "text/plain": [
       "52342251624758656962424635542600246432390708264947618736639330869844643473789"
      ]
     },
     "execution_count": 56,
     "metadata": {},
     "output_type": "execute_result"
    }
   ],
   "source": [
    "cofactor_inv = pow(cofactor, -1, r)\n",
    "cofactor_inv"
   ]
  },
  {
   "cell_type": "code",
   "execution_count": 62,
   "id": "531aad46",
   "metadata": {},
   "outputs": [
    {
     "data": {
      "text/plain": [
       "True"
      ]
     },
     "execution_count": 62,
     "metadata": {},
     "output_type": "execute_result"
    }
   ],
   "source": [
    "x_test = u + 4\n",
    "res_test = pow(x_test, 3)  + b\n",
    "\n",
    "res_test.is_square()"
   ]
  },
  {
   "cell_type": "code",
   "execution_count": 63,
   "id": "95bc9ad2",
   "metadata": {},
   "outputs": [
    {
     "data": {
      "text/plain": [
       "5626823460841058450933595252390677959192302471851672738235376958390425564865444080939499579020742467294822919726323150612613311349599927289799595475968360238639466912619219*u + 15492447162053344539436622906541660120558034831626526794427722698691645581725493987465742793060036277134832165591892442449296288650854155894467334221898486129239512217529073"
      ]
     },
     "execution_count": 63,
     "metadata": {},
     "output_type": "execute_result"
    }
   ],
   "source": [
    "res_test.sqrt()"
   ]
  },
  {
   "cell_type": "code",
   "execution_count": 64,
   "id": "b28a59e5",
   "metadata": {},
   "outputs": [],
   "source": [
    "P = E(u+4, res_test.sqrt())"
   ]
  },
  {
   "cell_type": "code",
   "execution_count": 65,
   "id": "a1b339a0",
   "metadata": {},
   "outputs": [
    {
     "data": {
      "text/plain": [
       "(10832407179955914211847371507868395694831167875939483416974996320568813633110183337679716246669139630694946155994134164573070651417188923217059486369595504440405929405295070*u + 15961858629678698558604263579817401801634171552903891025991809467507692432772682588292817173076251185109360722117296071793256403954089060793212318126143130609622773815531730 : 1104233349431442808145740601052820001361225084204411121082176275621513935336905661254958546223874109479566034987625127812138372112294386337684996796070026833127481450661093*u + 16822710565940580249223862576115209605427445899327931090428260033671198185206263769780729157475880870824879495366633381853655228190440466094750660128619185403553786706812293 : 1)"
      ]
     },
     "execution_count": 65,
     "metadata": {},
     "output_type": "execute_result"
    }
   ],
   "source": [
    "P2 = P * cofactor\n",
    "P2"
   ]
  },
  {
   "cell_type": "code",
   "execution_count": 66,
   "id": "727c30f5",
   "metadata": {},
   "outputs": [
    {
     "data": {
      "text/plain": [
       "(0 : 1 : 0)"
      ]
     },
     "execution_count": 66,
     "metadata": {},
     "output_type": "execute_result"
    }
   ],
   "source": [
    "P2 * r"
   ]
  },
  {
   "cell_type": "code",
   "execution_count": null,
   "id": "37823b5f",
   "metadata": {},
   "outputs": [],
   "source": []
  }
 ],
 "metadata": {
  "kernelspec": {
   "display_name": "SageMath 9.2",
   "language": "sage",
   "name": "sagemath"
  },
  "language_info": {
   "codemirror_mode": {
    "name": "ipython",
    "version": 3
   },
   "file_extension": ".py",
   "mimetype": "text/x-python",
   "name": "python",
   "nbconvert_exporter": "python",
   "pygments_lexer": "ipython3",
   "version": "3.9.7"
  }
 },
 "nbformat": 4,
 "nbformat_minor": 5
}
